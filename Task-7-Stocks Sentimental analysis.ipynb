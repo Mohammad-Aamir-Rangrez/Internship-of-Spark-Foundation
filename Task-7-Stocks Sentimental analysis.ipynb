{
 "cells": [
  {
   "cell_type": "markdown",
   "id": "ecd68ac8",
   "metadata": {},
   "source": [
    "# GRIP internship # Sep 2022"
   ]
  },
  {
   "cell_type": "markdown",
   "id": "71db4278",
   "metadata": {},
   "source": [
    "## Task7 : #7 STOCK MARKET PREDICTION USING NUMERICAL AND TEXTUAL ANALYSIS"
   ]
  },
  {
   "cell_type": "markdown",
   "id": "99594cee",
   "metadata": {},
   "source": [
    "### Task :\n",
    "* Create a hybrid model for stock price/performance prediction using numerical analysis of historical stock prices, and   sentimental analysis of news headlines"
   ]
  },
  {
   "cell_type": "markdown",
   "id": "12665f22",
   "metadata": {},
   "source": [
    "# By Mohammad Aamir Rangrez "
   ]
  },
  {
   "cell_type": "markdown",
   "id": "9d8cc1ca",
   "metadata": {},
   "source": [
    "* In this I have predicted if a companies stock will increase or decrease based on news headlines using sentiment analysis.\n",
    "\n",
    "* This model will determine if the price of a stock will increase or decrease based on the sentiment of top news article headlines for the current day using Python and machine learning.\n",
    "\n",
    "* I have used both numerical and textual data for this.\n",
    "\n",
    " (i) Time series analysis is performed on the Stock data.\n",
    " \n",
    " (ii) Sentiment analysis is performed on the News data.\n",
    " \n",
    " (iii) An analysis is performed by merging both the data to predict if the Close price of the stock will increase or decrease.\n",
    "\n"
   ]
  },
  {
   "cell_type": "markdown",
   "id": "ce139d9c",
   "metadata": {},
   "source": [
    "# Stock Market Prediction"
   ]
  },
  {
   "cell_type": "code",
   "execution_count": 1,
   "id": "86eed69d",
   "metadata": {},
   "outputs": [
    {
     "name": "stdout",
     "output_type": "stream",
     "text": [
      "Requirement already satisfied: pandas-datareader in c:\\users\\rangadi md aamir\\appdata\\local\\programs\\python\\python310\\lib\\site-packages (0.10.0)\n",
      "Requirement already satisfied: lxml in c:\\users\\rangadi md aamir\\appdata\\local\\programs\\python\\python310\\lib\\site-packages (from pandas-datareader) (4.9.1)\n",
      "Requirement already satisfied: requests>=2.19.0 in c:\\users\\rangadi md aamir\\appdata\\local\\programs\\python\\python310\\lib\\site-packages (from pandas-datareader) (2.27.1)\n",
      "Requirement already satisfied: pandas>=0.23 in c:\\users\\rangadi md aamir\\appdata\\local\\programs\\python\\python310\\lib\\site-packages (from pandas-datareader) (1.4.2)\n",
      "Requirement already satisfied: numpy>=1.21.0 in c:\\users\\rangadi md aamir\\appdata\\local\\programs\\python\\python310\\lib\\site-packages (from pandas>=0.23->pandas-datareader) (1.22.2)\n",
      "Requirement already satisfied: pytz>=2020.1 in c:\\users\\rangadi md aamir\\appdata\\local\\programs\\python\\python310\\lib\\site-packages (from pandas>=0.23->pandas-datareader) (2022.1)\n",
      "Requirement already satisfied: python-dateutil>=2.8.1 in c:\\users\\rangadi md aamir\\appdata\\local\\programs\\python\\python310\\lib\\site-packages (from pandas>=0.23->pandas-datareader) (2.8.2)\n",
      "Requirement already satisfied: urllib3<1.27,>=1.21.1 in c:\\users\\rangadi md aamir\\appdata\\local\\programs\\python\\python310\\lib\\site-packages (from requests>=2.19.0->pandas-datareader) (1.26.8)\n",
      "Requirement already satisfied: charset-normalizer~=2.0.0 in c:\\users\\rangadi md aamir\\appdata\\local\\programs\\python\\python310\\lib\\site-packages (from requests>=2.19.0->pandas-datareader) (2.0.12)\n",
      "Requirement already satisfied: certifi>=2017.4.17 in c:\\users\\rangadi md aamir\\appdata\\local\\programs\\python\\python310\\lib\\site-packages (from requests>=2.19.0->pandas-datareader) (2021.10.8)\n",
      "Requirement already satisfied: idna<4,>=2.5 in c:\\users\\rangadi md aamir\\appdata\\local\\programs\\python\\python310\\lib\\site-packages (from requests>=2.19.0->pandas-datareader) (2.10)\n",
      "Requirement already satisfied: six>=1.5 in c:\\users\\rangadi md aamir\\appdata\\local\\programs\\python\\python310\\lib\\site-packages (from python-dateutil>=2.8.1->pandas>=0.23->pandas-datareader) (1.16.0)\n",
      "Requirement already satisfied: pmdarima in c:\\users\\rangadi md aamir\\appdata\\local\\programs\\python\\python310\\lib\\site-packages (2.0.1)\n",
      "Requirement already satisfied: joblib>=0.11 in c:\\users\\rangadi md aamir\\appdata\\local\\programs\\python\\python310\\lib\\site-packages (from pmdarima) (1.2.0)\n",
      "Requirement already satisfied: numpy>=1.21 in c:\\users\\rangadi md aamir\\appdata\\local\\programs\\python\\python310\\lib\\site-packages (from pmdarima) (1.22.2)\n",
      "Requirement already satisfied: statsmodels>=0.13.2 in c:\\users\\rangadi md aamir\\appdata\\local\\programs\\python\\python310\\lib\\site-packages (from pmdarima) (0.13.2)\n",
      "Requirement already satisfied: urllib3 in c:\\users\\rangadi md aamir\\appdata\\local\\programs\\python\\python310\\lib\\site-packages (from pmdarima) (1.26.8)\n",
      "Requirement already satisfied: scipy>=1.3.2 in c:\\users\\rangadi md aamir\\appdata\\local\\programs\\python\\python310\\lib\\site-packages (from pmdarima) (1.9.1)\n",
      "Requirement already satisfied: Cython!=0.29.18,!=0.29.31,>=0.29 in c:\\users\\rangadi md aamir\\appdata\\local\\programs\\python\\python310\\lib\\site-packages (from pmdarima) (0.29.32)\n",
      "Requirement already satisfied: pandas>=0.19 in c:\\users\\rangadi md aamir\\appdata\\local\\programs\\python\\python310\\lib\\site-packages (from pmdarima) (1.4.2)\n",
      "Requirement already satisfied: scikit-learn>=0.22 in c:\\users\\rangadi md aamir\\appdata\\local\\programs\\python\\python310\\lib\\site-packages (from pmdarima) (1.1.2)\n",
      "Requirement already satisfied: setuptools!=50.0.0,>=38.6.0 in c:\\users\\rangadi md aamir\\appdata\\local\\programs\\python\\python310\\lib\\site-packages (from pmdarima) (58.1.0)\n",
      "Requirement already satisfied: python-dateutil>=2.8.1 in c:\\users\\rangadi md aamir\\appdata\\local\\programs\\python\\python310\\lib\\site-packages (from pandas>=0.19->pmdarima) (2.8.2)\n",
      "Requirement already satisfied: pytz>=2020.1 in c:\\users\\rangadi md aamir\\appdata\\local\\programs\\python\\python310\\lib\\site-packages (from pandas>=0.19->pmdarima) (2022.1)\n",
      "Requirement already satisfied: threadpoolctl>=2.0.0 in c:\\users\\rangadi md aamir\\appdata\\local\\programs\\python\\python310\\lib\\site-packages (from scikit-learn>=0.22->pmdarima) (3.1.0)\n",
      "Requirement already satisfied: patsy>=0.5.2 in c:\\users\\rangadi md aamir\\appdata\\local\\programs\\python\\python310\\lib\\site-packages (from statsmodels>=0.13.2->pmdarima) (0.5.2)\n",
      "Requirement already satisfied: packaging>=21.3 in c:\\users\\rangadi md aamir\\appdata\\local\\programs\\python\\python310\\lib\\site-packages (from statsmodels>=0.13.2->pmdarima) (21.3)\n",
      "Requirement already satisfied: pyparsing!=3.0.5,>=2.0.2 in c:\\users\\rangadi md aamir\\appdata\\local\\programs\\python\\python310\\lib\\site-packages (from packaging>=21.3->statsmodels>=0.13.2->pmdarima) (3.0.9)\n",
      "Requirement already satisfied: six in c:\\users\\rangadi md aamir\\appdata\\local\\programs\\python\\python310\\lib\\site-packages (from patsy>=0.5.2->statsmodels>=0.13.2->pmdarima) (1.16.0)\n",
      "Requirement already satisfied: textBlob in c:\\users\\rangadi md aamir\\appdata\\local\\programs\\python\\python310\\lib\\site-packages (0.17.1)\n",
      "Requirement already satisfied: nltk>=3.1 in c:\\users\\rangadi md aamir\\appdata\\local\\programs\\python\\python310\\lib\\site-packages (from textBlob) (3.7)\n",
      "Requirement already satisfied: regex>=2021.8.3 in c:\\users\\rangadi md aamir\\appdata\\local\\programs\\python\\python310\\lib\\site-packages (from nltk>=3.1->textBlob) (2022.9.13)\n",
      "Requirement already satisfied: click in c:\\users\\rangadi md aamir\\appdata\\local\\programs\\python\\python310\\lib\\site-packages (from nltk>=3.1->textBlob) (8.1.3)\n",
      "Requirement already satisfied: tqdm in c:\\users\\rangadi md aamir\\appdata\\local\\programs\\python\\python310\\lib\\site-packages (from nltk>=3.1->textBlob) (4.62.3)\n",
      "Requirement already satisfied: joblib in c:\\users\\rangadi md aamir\\appdata\\local\\programs\\python\\python310\\lib\\site-packages (from nltk>=3.1->textBlob) (1.2.0)\n",
      "Requirement already satisfied: colorama in c:\\users\\rangadi md aamir\\appdata\\local\\programs\\python\\python310\\lib\\site-packages (from click->nltk>=3.1->textBlob) (0.4.4)\n",
      "Requirement already satisfied: vaderSentiment in c:\\users\\rangadi md aamir\\appdata\\local\\programs\\python\\python310\\lib\\site-packages (3.3.2)\n",
      "Requirement already satisfied: requests in c:\\users\\rangadi md aamir\\appdata\\local\\programs\\python\\python310\\lib\\site-packages (from vaderSentiment) (2.27.1)\n",
      "Requirement already satisfied: idna<4,>=2.5 in c:\\users\\rangadi md aamir\\appdata\\local\\programs\\python\\python310\\lib\\site-packages (from requests->vaderSentiment) (2.10)\n",
      "Requirement already satisfied: certifi>=2017.4.17 in c:\\users\\rangadi md aamir\\appdata\\local\\programs\\python\\python310\\lib\\site-packages (from requests->vaderSentiment) (2021.10.8)\n",
      "Requirement already satisfied: urllib3<1.27,>=1.21.1 in c:\\users\\rangadi md aamir\\appdata\\local\\programs\\python\\python310\\lib\\site-packages (from requests->vaderSentiment) (1.26.8)\n",
      "Requirement already satisfied: charset-normalizer~=2.0.0 in c:\\users\\rangadi md aamir\\appdata\\local\\programs\\python\\python310\\lib\\site-packages (from requests->vaderSentiment) (2.0.12)\n"
     ]
    }
   ],
   "source": [
    "!pip install pandas-datareader\n",
    "!pip install pmdarima\n",
    "!pip install textBlob\n",
    "! pip install vaderSentiment"
   ]
  },
  {
   "cell_type": "code",
   "execution_count": 2,
   "id": "e7537025",
   "metadata": {},
   "outputs": [],
   "source": [
    "import numpy as np\n",
    "import pandas as pd\n",
    "import matplotlib.pyplot as plt\n",
    "import pylab as pl\n",
    "%matplotlib inline\n",
    "import seaborn as sns\n",
    "#from pmdarima import auto_arima\n",
    "#import pmdarima as pmd\n",
    "import datetime\n",
    "import pandas_datareader.data as web\n",
    "import matplotlib as mpl\n",
    "from matplotlib import style\n",
    "import warnings\n",
    "warnings.simplefilter(action='ignore', category=FutureWarning)\n",
    "warnings.filterwarnings('ignore')\n",
    "\n",
    "from statsmodels.tsa.stattools import adfuller, acf , pacf\n",
    "from statsmodels.tsa.arima_model import ARIMA\n",
    "from sklearn.metrics import mean_squared_error, mean_absolute_error, r2_score\n",
    "from statsmodels.tsa.seasonal import seasonal_decompose\n",
    "\n",
    "from textblob import TextBlob\n",
    "from matplotlib.pyplot import figure\n",
    "from matplotlib import rcParams\n",
    "import plotly.express as px\n",
    "from wordcloud import WordCloud, STOPWORDS\n",
    "from nltk.sentiment.vader import SentimentIntensityAnalyzer\n",
    "import nltk\n",
    "\n",
    "from sklearn.tree import DecisionTreeRegressor\n",
    "from sklearn.ensemble import RandomForestRegressor, AdaBoostRegressor\n",
    "import xgboost\n",
    "import lightgbm"
   ]
  },
  {
   "cell_type": "markdown",
   "id": "dc2764d2",
   "metadata": {},
   "source": [
    "# Importing Stocks data from web"
   ]
  },
  {
   "cell_type": "code",
   "execution_count": 3,
   "id": "1b629eea",
   "metadata": {},
   "outputs": [],
   "source": [
    "start = datetime.datetime(2010,1,1)\n",
    "end = datetime.datetime.today()"
   ]
  },
  {
   "cell_type": "code",
   "execution_count": 4,
   "id": "213bf6c1",
   "metadata": {},
   "outputs": [],
   "source": [
    "stocks = web.DataReader(\"AAPL\",'yahoo',start,end)"
   ]
  },
  {
   "cell_type": "code",
   "execution_count": 5,
   "id": "90c9b66b",
   "metadata": {},
   "outputs": [
    {
     "name": "stdout",
     "output_type": "stream",
     "text": [
      "<class 'pandas.core.frame.DataFrame'>\n",
      "DatetimeIndex: 3203 entries, 2009-12-31 to 2022-09-21\n",
      "Data columns (total 6 columns):\n",
      " #   Column     Non-Null Count  Dtype  \n",
      "---  ------     --------------  -----  \n",
      " 0   High       3203 non-null   float64\n",
      " 1   Low        3203 non-null   float64\n",
      " 2   Open       3203 non-null   float64\n",
      " 3   Close      3203 non-null   float64\n",
      " 4   Volume     3203 non-null   float64\n",
      " 5   Adj Close  3203 non-null   float64\n",
      "dtypes: float64(6)\n",
      "memory usage: 175.2 KB\n"
     ]
    }
   ],
   "source": [
    "stocks.info()"
   ]
  },
  {
   "cell_type": "code",
   "execution_count": 6,
   "id": "6e8e45f3",
   "metadata": {},
   "outputs": [
    {
     "data": {
      "text/html": [
       "<div>\n",
       "<style scoped>\n",
       "    .dataframe tbody tr th:only-of-type {\n",
       "        vertical-align: middle;\n",
       "    }\n",
       "\n",
       "    .dataframe tbody tr th {\n",
       "        vertical-align: top;\n",
       "    }\n",
       "\n",
       "    .dataframe thead th {\n",
       "        text-align: right;\n",
       "    }\n",
       "</style>\n",
       "<table border=\"1\" class=\"dataframe\">\n",
       "  <thead>\n",
       "    <tr style=\"text-align: right;\">\n",
       "      <th></th>\n",
       "      <th>High</th>\n",
       "      <th>Low</th>\n",
       "      <th>Open</th>\n",
       "      <th>Close</th>\n",
       "      <th>Volume</th>\n",
       "      <th>Adj Close</th>\n",
       "    </tr>\n",
       "    <tr>\n",
       "      <th>Date</th>\n",
       "      <th></th>\n",
       "      <th></th>\n",
       "      <th></th>\n",
       "      <th></th>\n",
       "      <th></th>\n",
       "      <th></th>\n",
       "    </tr>\n",
       "  </thead>\n",
       "  <tbody>\n",
       "    <tr>\n",
       "      <th>2009-12-31</th>\n",
       "      <td>7.619643</td>\n",
       "      <td>7.520000</td>\n",
       "      <td>7.611786</td>\n",
       "      <td>7.526071</td>\n",
       "      <td>352410800.0</td>\n",
       "      <td>6.426001</td>\n",
       "    </tr>\n",
       "    <tr>\n",
       "      <th>2010-01-04</th>\n",
       "      <td>7.660714</td>\n",
       "      <td>7.585000</td>\n",
       "      <td>7.622500</td>\n",
       "      <td>7.643214</td>\n",
       "      <td>493729600.0</td>\n",
       "      <td>6.526021</td>\n",
       "    </tr>\n",
       "    <tr>\n",
       "      <th>2010-01-05</th>\n",
       "      <td>7.699643</td>\n",
       "      <td>7.616071</td>\n",
       "      <td>7.664286</td>\n",
       "      <td>7.656429</td>\n",
       "      <td>601904800.0</td>\n",
       "      <td>6.537304</td>\n",
       "    </tr>\n",
       "    <tr>\n",
       "      <th>2010-01-06</th>\n",
       "      <td>7.686786</td>\n",
       "      <td>7.526786</td>\n",
       "      <td>7.656429</td>\n",
       "      <td>7.534643</td>\n",
       "      <td>552160000.0</td>\n",
       "      <td>6.433319</td>\n",
       "    </tr>\n",
       "    <tr>\n",
       "      <th>2010-01-07</th>\n",
       "      <td>7.571429</td>\n",
       "      <td>7.466071</td>\n",
       "      <td>7.562500</td>\n",
       "      <td>7.520714</td>\n",
       "      <td>477131200.0</td>\n",
       "      <td>6.421425</td>\n",
       "    </tr>\n",
       "  </tbody>\n",
       "</table>\n",
       "</div>"
      ],
      "text/plain": [
       "                High       Low      Open     Close       Volume  Adj Close\n",
       "Date                                                                      \n",
       "2009-12-31  7.619643  7.520000  7.611786  7.526071  352410800.0   6.426001\n",
       "2010-01-04  7.660714  7.585000  7.622500  7.643214  493729600.0   6.526021\n",
       "2010-01-05  7.699643  7.616071  7.664286  7.656429  601904800.0   6.537304\n",
       "2010-01-06  7.686786  7.526786  7.656429  7.534643  552160000.0   6.433319\n",
       "2010-01-07  7.571429  7.466071  7.562500  7.520714  477131200.0   6.421425"
      ]
     },
     "execution_count": 6,
     "metadata": {},
     "output_type": "execute_result"
    }
   ],
   "source": [
    "stocks.head()"
   ]
  },
  {
   "cell_type": "code",
   "execution_count": 7,
   "id": "f23d73f4",
   "metadata": {},
   "outputs": [],
   "source": [
    "stocks.reset_index(inplace=True)"
   ]
  },
  {
   "cell_type": "code",
   "execution_count": 8,
   "id": "9131e67c",
   "metadata": {},
   "outputs": [
    {
     "data": {
      "text/html": [
       "<div>\n",
       "<style scoped>\n",
       "    .dataframe tbody tr th:only-of-type {\n",
       "        vertical-align: middle;\n",
       "    }\n",
       "\n",
       "    .dataframe tbody tr th {\n",
       "        vertical-align: top;\n",
       "    }\n",
       "\n",
       "    .dataframe thead th {\n",
       "        text-align: right;\n",
       "    }\n",
       "</style>\n",
       "<table border=\"1\" class=\"dataframe\">\n",
       "  <thead>\n",
       "    <tr style=\"text-align: right;\">\n",
       "      <th></th>\n",
       "      <th>Date</th>\n",
       "      <th>High</th>\n",
       "      <th>Low</th>\n",
       "      <th>Open</th>\n",
       "      <th>Close</th>\n",
       "      <th>Volume</th>\n",
       "      <th>Adj Close</th>\n",
       "    </tr>\n",
       "  </thead>\n",
       "  <tbody>\n",
       "    <tr>\n",
       "      <th>3198</th>\n",
       "      <td>2022-09-15</td>\n",
       "      <td>155.240005</td>\n",
       "      <td>151.380005</td>\n",
       "      <td>154.649994</td>\n",
       "      <td>152.369995</td>\n",
       "      <td>90481100.0</td>\n",
       "      <td>152.369995</td>\n",
       "    </tr>\n",
       "    <tr>\n",
       "      <th>3199</th>\n",
       "      <td>2022-09-16</td>\n",
       "      <td>151.350006</td>\n",
       "      <td>148.369995</td>\n",
       "      <td>151.210007</td>\n",
       "      <td>150.699997</td>\n",
       "      <td>162157000.0</td>\n",
       "      <td>150.699997</td>\n",
       "    </tr>\n",
       "    <tr>\n",
       "      <th>3200</th>\n",
       "      <td>2022-09-19</td>\n",
       "      <td>154.559998</td>\n",
       "      <td>149.100006</td>\n",
       "      <td>149.309998</td>\n",
       "      <td>154.479996</td>\n",
       "      <td>81474200.0</td>\n",
       "      <td>154.479996</td>\n",
       "    </tr>\n",
       "    <tr>\n",
       "      <th>3201</th>\n",
       "      <td>2022-09-20</td>\n",
       "      <td>158.080002</td>\n",
       "      <td>153.080002</td>\n",
       "      <td>153.399994</td>\n",
       "      <td>156.899994</td>\n",
       "      <td>107547900.0</td>\n",
       "      <td>156.899994</td>\n",
       "    </tr>\n",
       "    <tr>\n",
       "      <th>3202</th>\n",
       "      <td>2022-09-21</td>\n",
       "      <td>158.399994</td>\n",
       "      <td>155.919998</td>\n",
       "      <td>157.339996</td>\n",
       "      <td>156.339996</td>\n",
       "      <td>28194558.0</td>\n",
       "      <td>156.339996</td>\n",
       "    </tr>\n",
       "  </tbody>\n",
       "</table>\n",
       "</div>"
      ],
      "text/plain": [
       "           Date        High         Low        Open       Close       Volume  \\\n",
       "3198 2022-09-15  155.240005  151.380005  154.649994  152.369995   90481100.0   \n",
       "3199 2022-09-16  151.350006  148.369995  151.210007  150.699997  162157000.0   \n",
       "3200 2022-09-19  154.559998  149.100006  149.309998  154.479996   81474200.0   \n",
       "3201 2022-09-20  158.080002  153.080002  153.399994  156.899994  107547900.0   \n",
       "3202 2022-09-21  158.399994  155.919998  157.339996  156.339996   28194558.0   \n",
       "\n",
       "       Adj Close  \n",
       "3198  152.369995  \n",
       "3199  150.699997  \n",
       "3200  154.479996  \n",
       "3201  156.899994  \n",
       "3202  156.339996  "
      ]
     },
     "execution_count": 8,
     "metadata": {},
     "output_type": "execute_result"
    }
   ],
   "source": [
    "stocks.tail()"
   ]
  },
  {
   "cell_type": "code",
   "execution_count": 9,
   "id": "76f6f823",
   "metadata": {},
   "outputs": [
    {
     "data": {
      "text/plain": [
       "(3203, 7)"
      ]
     },
     "execution_count": 9,
     "metadata": {},
     "output_type": "execute_result"
    }
   ],
   "source": [
    "stocks.shape"
   ]
  },
  {
   "cell_type": "code",
   "execution_count": 10,
   "id": "ce51e1ff",
   "metadata": {},
   "outputs": [
    {
     "data": {
      "text/html": [
       "<div>\n",
       "<style scoped>\n",
       "    .dataframe tbody tr th:only-of-type {\n",
       "        vertical-align: middle;\n",
       "    }\n",
       "\n",
       "    .dataframe tbody tr th {\n",
       "        vertical-align: top;\n",
       "    }\n",
       "\n",
       "    .dataframe thead th {\n",
       "        text-align: right;\n",
       "    }\n",
       "</style>\n",
       "<table border=\"1\" class=\"dataframe\">\n",
       "  <thead>\n",
       "    <tr style=\"text-align: right;\">\n",
       "      <th></th>\n",
       "      <th>High</th>\n",
       "      <th>Low</th>\n",
       "      <th>Open</th>\n",
       "      <th>Close</th>\n",
       "      <th>Volume</th>\n",
       "      <th>Adj Close</th>\n",
       "    </tr>\n",
       "  </thead>\n",
       "  <tbody>\n",
       "    <tr>\n",
       "      <th>count</th>\n",
       "      <td>3203.000000</td>\n",
       "      <td>3203.000000</td>\n",
       "      <td>3203.000000</td>\n",
       "      <td>3203.000000</td>\n",
       "      <td>3.203000e+03</td>\n",
       "      <td>3203.000000</td>\n",
       "    </tr>\n",
       "    <tr>\n",
       "      <th>mean</th>\n",
       "      <td>49.808055</td>\n",
       "      <td>48.740172</td>\n",
       "      <td>49.268179</td>\n",
       "      <td>49.295487</td>\n",
       "      <td>2.599961e+08</td>\n",
       "      <td>47.484764</td>\n",
       "    </tr>\n",
       "    <tr>\n",
       "      <th>std</th>\n",
       "      <td>46.380181</td>\n",
       "      <td>45.249952</td>\n",
       "      <td>45.802061</td>\n",
       "      <td>45.839533</td>\n",
       "      <td>2.235070e+08</td>\n",
       "      <td>46.330467</td>\n",
       "    </tr>\n",
       "    <tr>\n",
       "      <th>min</th>\n",
       "      <td>7.000000</td>\n",
       "      <td>6.794643</td>\n",
       "      <td>6.870357</td>\n",
       "      <td>6.858929</td>\n",
       "      <td>2.819456e+07</td>\n",
       "      <td>5.856373</td>\n",
       "    </tr>\n",
       "    <tr>\n",
       "      <th>25%</th>\n",
       "      <td>18.999107</td>\n",
       "      <td>18.658394</td>\n",
       "      <td>18.856786</td>\n",
       "      <td>18.843214</td>\n",
       "      <td>1.043316e+08</td>\n",
       "      <td>16.522487</td>\n",
       "    </tr>\n",
       "    <tr>\n",
       "      <th>50%</th>\n",
       "      <td>29.517500</td>\n",
       "      <td>29.049999</td>\n",
       "      <td>29.275000</td>\n",
       "      <td>29.280001</td>\n",
       "      <td>1.712400e+08</td>\n",
       "      <td>27.092531</td>\n",
       "    </tr>\n",
       "    <tr>\n",
       "      <th>75%</th>\n",
       "      <td>55.201250</td>\n",
       "      <td>54.047501</td>\n",
       "      <td>54.508749</td>\n",
       "      <td>54.451250</td>\n",
       "      <td>3.532704e+08</td>\n",
       "      <td>52.574780</td>\n",
       "    </tr>\n",
       "    <tr>\n",
       "      <th>max</th>\n",
       "      <td>182.940002</td>\n",
       "      <td>179.119995</td>\n",
       "      <td>182.630005</td>\n",
       "      <td>182.009995</td>\n",
       "      <td>1.880998e+09</td>\n",
       "      <td>181.259918</td>\n",
       "    </tr>\n",
       "  </tbody>\n",
       "</table>\n",
       "</div>"
      ],
      "text/plain": [
       "              High          Low         Open        Close        Volume  \\\n",
       "count  3203.000000  3203.000000  3203.000000  3203.000000  3.203000e+03   \n",
       "mean     49.808055    48.740172    49.268179    49.295487  2.599961e+08   \n",
       "std      46.380181    45.249952    45.802061    45.839533  2.235070e+08   \n",
       "min       7.000000     6.794643     6.870357     6.858929  2.819456e+07   \n",
       "25%      18.999107    18.658394    18.856786    18.843214  1.043316e+08   \n",
       "50%      29.517500    29.049999    29.275000    29.280001  1.712400e+08   \n",
       "75%      55.201250    54.047501    54.508749    54.451250  3.532704e+08   \n",
       "max     182.940002   179.119995   182.630005   182.009995  1.880998e+09   \n",
       "\n",
       "         Adj Close  \n",
       "count  3203.000000  \n",
       "mean     47.484764  \n",
       "std      46.330467  \n",
       "min       5.856373  \n",
       "25%      16.522487  \n",
       "50%      27.092531  \n",
       "75%      52.574780  \n",
       "max     181.259918  "
      ]
     },
     "execution_count": 10,
     "metadata": {},
     "output_type": "execute_result"
    }
   ],
   "source": [
    "stocks.describe()"
   ]
  },
  {
   "cell_type": "markdown",
   "id": "11cc5b87",
   "metadata": {},
   "source": [
    "## Data Cleaning "
   ]
  },
  {
   "cell_type": "code",
   "execution_count": 11,
   "id": "d1c252a4",
   "metadata": {},
   "outputs": [
    {
     "data": {
      "text/html": [
       "<div>\n",
       "<style scoped>\n",
       "    .dataframe tbody tr th:only-of-type {\n",
       "        vertical-align: middle;\n",
       "    }\n",
       "\n",
       "    .dataframe tbody tr th {\n",
       "        vertical-align: top;\n",
       "    }\n",
       "\n",
       "    .dataframe thead th {\n",
       "        text-align: right;\n",
       "    }\n",
       "</style>\n",
       "<table border=\"1\" class=\"dataframe\">\n",
       "  <thead>\n",
       "    <tr style=\"text-align: right;\">\n",
       "      <th></th>\n",
       "      <th>Date</th>\n",
       "      <th>High</th>\n",
       "      <th>Low</th>\n",
       "      <th>Open</th>\n",
       "      <th>Close</th>\n",
       "      <th>Volume</th>\n",
       "      <th>Adj Close</th>\n",
       "    </tr>\n",
       "  </thead>\n",
       "  <tbody>\n",
       "    <tr>\n",
       "      <th>0</th>\n",
       "      <td>2009-12-31</td>\n",
       "      <td>7.619643</td>\n",
       "      <td>7.520000</td>\n",
       "      <td>7.611786</td>\n",
       "      <td>7.526071</td>\n",
       "      <td>352410800.0</td>\n",
       "      <td>6.426001</td>\n",
       "    </tr>\n",
       "    <tr>\n",
       "      <th>1</th>\n",
       "      <td>2010-01-04</td>\n",
       "      <td>7.660714</td>\n",
       "      <td>7.585000</td>\n",
       "      <td>7.622500</td>\n",
       "      <td>7.643214</td>\n",
       "      <td>493729600.0</td>\n",
       "      <td>6.526021</td>\n",
       "    </tr>\n",
       "    <tr>\n",
       "      <th>2</th>\n",
       "      <td>2010-01-05</td>\n",
       "      <td>7.699643</td>\n",
       "      <td>7.616071</td>\n",
       "      <td>7.664286</td>\n",
       "      <td>7.656429</td>\n",
       "      <td>601904800.0</td>\n",
       "      <td>6.537304</td>\n",
       "    </tr>\n",
       "    <tr>\n",
       "      <th>3</th>\n",
       "      <td>2010-01-06</td>\n",
       "      <td>7.686786</td>\n",
       "      <td>7.526786</td>\n",
       "      <td>7.656429</td>\n",
       "      <td>7.534643</td>\n",
       "      <td>552160000.0</td>\n",
       "      <td>6.433319</td>\n",
       "    </tr>\n",
       "    <tr>\n",
       "      <th>4</th>\n",
       "      <td>2010-01-07</td>\n",
       "      <td>7.571429</td>\n",
       "      <td>7.466071</td>\n",
       "      <td>7.562500</td>\n",
       "      <td>7.520714</td>\n",
       "      <td>477131200.0</td>\n",
       "      <td>6.421425</td>\n",
       "    </tr>\n",
       "  </tbody>\n",
       "</table>\n",
       "</div>"
      ],
      "text/plain": [
       "        Date      High       Low      Open     Close       Volume  Adj Close\n",
       "0 2009-12-31  7.619643  7.520000  7.611786  7.526071  352410800.0   6.426001\n",
       "1 2010-01-04  7.660714  7.585000  7.622500  7.643214  493729600.0   6.526021\n",
       "2 2010-01-05  7.699643  7.616071  7.664286  7.656429  601904800.0   6.537304\n",
       "3 2010-01-06  7.686786  7.526786  7.656429  7.534643  552160000.0   6.433319\n",
       "4 2010-01-07  7.571429  7.466071  7.562500  7.520714  477131200.0   6.421425"
      ]
     },
     "execution_count": 11,
     "metadata": {},
     "output_type": "execute_result"
    }
   ],
   "source": [
    "stocks['Date'] = pd.to_datetime(stocks['Date'])\n",
    "stocks.head()"
   ]
  },
  {
   "cell_type": "markdown",
   "id": "ed9f982f",
   "metadata": {},
   "source": [
    "## Mising Value"
   ]
  },
  {
   "cell_type": "code",
   "execution_count": 12,
   "id": "790153f8",
   "metadata": {},
   "outputs": [
    {
     "data": {
      "text/plain": [
       "Date         0\n",
       "High         0\n",
       "Low          0\n",
       "Open         0\n",
       "Close        0\n",
       "Volume       0\n",
       "Adj Close    0\n",
       "dtype: int64"
      ]
     },
     "execution_count": 12,
     "metadata": {},
     "output_type": "execute_result"
    }
   ],
   "source": [
    "stocks.isna().sum()"
   ]
  },
  {
   "cell_type": "markdown",
   "id": "888e3b6a",
   "metadata": {},
   "source": [
    "### Visualizing the data -Close Price"
   ]
  },
  {
   "cell_type": "code",
   "execution_count": 13,
   "id": "61169c10",
   "metadata": {},
   "outputs": [
    {
     "data": {
      "image/png": "[encoded data removed]",
      "text/plain": [
       "<Figure size 500x500 with 1 Axes>"
      ]
     },
     "metadata": {},
     "output_type": "display_data"
    }
   ],
   "source": [
    "plt.figure(figsize=(5,5))\n",
    "plt.title('Closing Price of stock',fontsize=18)\n",
    "plt.xlabel('Days',fontsize=18)\n",
    "plt.ylabel('Close',fontsize=18)\n",
    "plt.plot(stocks['Close'])\n",
    "plt.show()"
   ]
  },
  {
   "cell_type": "markdown",
   "id": "fdbdb496",
   "metadata": {},
   "source": [
    "Visualizing the data -Open price"
   ]
  },
  {
   "cell_type": "code",
   "execution_count": 14,
   "id": "02b21381",
   "metadata": {},
   "outputs": [
    {
     "data": {
      "image/png": "[encoded data removed]",
      "text/plain": [
       "<Figure size 500x500 with 1 Axes>"
      ]
     },
     "metadata": {},
     "output_type": "display_data"
    }
   ],
   "source": [
    "plt.figure(figsize=(5,5))\n",
    "plt.grid(True)\n",
    "plt.plot(stocks['Open'])\n",
    "plt.xlabel('Days')\n",
    "plt.ylabel('Open Price')\n",
    "plt.title(\"Opening Price of Stocks \")\n",
    "plt.show()"
   ]
  },
  {
   "cell_type": "markdown",
   "id": "95ee195b",
   "metadata": {},
   "source": [
    "### Visualising Stocks returns"
   ]
  },
  {
   "cell_type": "code",
   "execution_count": 15,
   "id": "84983810",
   "metadata": {},
   "outputs": [
    {
     "data": {
      "text/plain": [
       "Text(0.5, 1.0, 'Stock Returns ')"
      ]
     },
     "execution_count": 15,
     "metadata": {},
     "output_type": "execute_result"
    },
    {
     "data": {
      "image/png": "[encoded data removed]",
      "text/plain": [
       "<Figure size 1000x600 with 1 Axes>"
      ]
     },
     "metadata": {},
     "output_type": "display_data"
    }
   ],
   "source": [
    "close = stocks['Close']\n",
    "returns = close / close.shift(1)-1\n",
    "\n",
    "plt.figure(figsize=(10,6))\n",
    "returns.plot(label='Return',color = 'g')\n",
    "plt.title('Stock Returns ')"
   ]
  },
  {
   "cell_type": "markdown",
   "id": "e2ec36f8",
   "metadata": {},
   "source": [
    "## Time series Analysis -For Close Price\n",
    "We can also perform the same analysis for Open price as well"
   ]
  },
  {
   "cell_type": "markdown",
   "id": "5c221a4c",
   "metadata": {},
   "source": [
    "   Time series decomposition involves thinking of a series as a combination of level, trend, seasonality, and noise components.\n",
    " we need to separate seasonality and trend from our series. The resultant series will become stationary through this process."
   ]
  },
  {
   "cell_type": "markdown",
   "id": "9d7498ba",
   "metadata": {},
   "source": [
    "# Splitting data into train and test data"
   ]
  },
  {
   "cell_type": "code",
   "execution_count": 16,
   "id": "a6adcf8f",
   "metadata": {},
   "outputs": [
    {
     "data": {
      "text/plain": [
       "((1600, 7), (1603, 7))"
      ]
     },
     "execution_count": 16,
     "metadata": {},
     "output_type": "execute_result"
    }
   ],
   "source": [
    "train = stocks[:1600]\n",
    "test = stocks[1600:]\n",
    "train.shape, test.shape"
   ]
  },
  {
   "cell_type": "markdown",
   "id": "77fb0521",
   "metadata": {},
   "source": [
    "### Decomposition of Time series"
   ]
  },
  {
   "cell_type": "markdown",
   "id": "f6176f4e",
   "metadata": {},
   "source": [
    "### Stationarity"
   ]
  },
  {
   "cell_type": "markdown",
   "id": "154646ae",
   "metadata": {},
   "source": [
    "A stationary process has a mean and variance that do not change overtime and the process does not have trend.\n",
    "\n",
    "The above time series does not look stationary.\n",
    "\n",
    "To confirm that we will use “Dickey-Fuller test” to determine stationarity.\n",
    "\n",
    "Dickey-Fuller test for variable"
   ]
  },
  {
   "cell_type": "markdown",
   "id": "68715fc0",
   "metadata": {},
   "source": [
    "### Dickey-Fuller test"
   ]
  },
  {
   "cell_type": "code",
   "execution_count": 17,
   "id": "57777c4b",
   "metadata": {},
   "outputs": [],
   "source": [
    "def adfullerTest(X):\n",
    "    result = adfuller(X,autolag = 'AIC')\n",
    "    print('ADF Statistic: %f' % result[0])\n",
    "    print('p-value: %f' % result[1])\n",
    "    print('No of Lags Used: %f' % result[2])\n",
    "    print('Number of Obs Used: %f' % result[3])\n",
    "    print('Critical Values:')\n",
    "    for key, value in result[4].items():\n",
    "        print('\\t%s: %.3f' % (key, value))\n",
    "    if result[1] <=0.05 :\n",
    "         print(\"Reject against the null hypothesis, time series is stationary\")\n",
    "    else:\n",
    "        print(\"Accept null hypothesis, time series is non-stationary \") "
   ]
  },
  {
   "cell_type": "code",
   "execution_count": 18,
   "id": "491b8ae0",
   "metadata": {},
   "outputs": [
    {
     "name": "stdout",
     "output_type": "stream",
     "text": [
      "ADF Statistic: -1.573022\n",
      "p-value: 0.497130\n",
      "No of Lags Used: 0.000000\n",
      "Number of Obs Used: 1599.000000\n",
      "Critical Values:\n",
      "\t1%: -3.434\n",
      "\t5%: -2.863\n",
      "\t10%: -2.568\n",
      "Accept null hypothesis, time series is non-stationary \n"
     ]
    }
   ],
   "source": [
    "adfullerTest(train['Close'])"
   ]
  },
  {
   "cell_type": "markdown",
   "id": "b2d6fb59",
   "metadata": {},
   "source": [
    "We can see that our statistic value of -1.4 is greater than the value of -3.437 at 1% critical value.\n",
    "   By Comparing the test statistic to the critical values, it looks like we would have to fail to reject the null hypothesis that the time series is non-stationary and does have time-dependent structure."
   ]
  },
  {
   "cell_type": "markdown",
   "id": "0de5e42b",
   "metadata": {},
   "source": [
    "##### Rolling Statistics"
   ]
  },
  {
   "cell_type": "code",
   "execution_count": 19,
   "id": "1af8712e",
   "metadata": {},
   "outputs": [
    {
     "data": {
      "text/plain": [
       "Text(0.5, 1.0, 'Mean and Standard Deviation on  transformed data')"
      ]
     },
     "execution_count": 19,
     "metadata": {},
     "output_type": "execute_result"
    },
    {
     "data": {
      "image/png": "[encoded data removed]",
      "text/plain": [
       "<Figure size 800x800 with 1 Axes>"
      ]
     },
     "metadata": {},
     "output_type": "display_data"
    }
   ],
   "source": [
    "rolling_mean_50 = (train['Close']).rolling(window=50).mean()\n",
    "rolling_std_50 = (train['Close']).rolling(window=50).std()\n",
    "plt.figure(figsize = (8,8))\n",
    "plt.plot((train['Close']), color = 'blue', label = 'original')\n",
    "plt.plot(rolling_mean_50, color = 'red', label = 'rolling mean 50')\n",
    "plt.plot(rolling_std_50, color = 'black', label = 'rolling std 50')\n",
    "plt.xlabel('Time')\n",
    "plt.legend()\n",
    "plt.title('Mean and Standard Deviation on  transformed data',  fontsize = 20)\n"
   ]
  },
  {
   "cell_type": "markdown",
   "id": "8ce5d6bb",
   "metadata": {},
   "source": [
    "Since the data shows changing variance over time, the first thing we will do is stabilize the variance by applying log transformation using the log() function. The resulting series will be a linear time series."
   ]
  },
  {
   "cell_type": "markdown",
   "id": "f3af35f8",
   "metadata": {},
   "source": [
    "### Log Transfromation"
   ]
  },
  {
   "cell_type": "markdown",
   "id": "4189c803",
   "metadata": {},
   "source": [
    "Let’s log transform the dataset again to make the distribution of values more linear and better meet the expectations of this statistical test."
   ]
  },
  {
   "cell_type": "code",
   "execution_count": 20,
   "id": "38c276b2",
   "metadata": {},
   "outputs": [
    {
     "name": "stdout",
     "output_type": "stream",
     "text": [
      "ADF Statistic: -2.074427\n",
      "p-value: 0.254921\n",
      "No of Lags Used: 0.000000\n",
      "Number of Obs Used: 1599.000000\n",
      "Critical Values:\n",
      "\t1%: -3.434\n",
      "\t5%: -2.863\n",
      "\t10%: -2.568\n",
      "Accept null hypothesis, time series is non-stationary \n"
     ]
    }
   ],
   "source": [
    "train_log = np.log(train['Close'])\n",
    "test_log = np.log(test['Close'])\n",
    "from numpy import log\n",
    "adfullerTest(log(train['Close']))"
   ]
  },
  {
   "cell_type": "markdown",
   "id": "7aceaef3",
   "metadata": {},
   "source": [
    "Running this shows a negative value for the test statistic.\n",
    "\n",
    "We can see that the value is larger than the critical values, again, meaning that we can fail to reject the null hypothesis and in turn that the time series is non-stationary."
   ]
  },
  {
   "cell_type": "code",
   "execution_count": 21,
   "id": "5dad0829",
   "metadata": {},
   "outputs": [
    {
     "data": {
      "text/plain": [
       "Text(0.5, 1.0, 'Mean and Standard Deviation on Log transformed data')"
      ]
     },
     "execution_count": 21,
     "metadata": {},
     "output_type": "execute_result"
    },
    {
     "data": {
      "image/png": "[encoded data removed]",
      "text/plain": [
       "<Figure size 800x800 with 1 Axes>"
      ]
     },
     "metadata": {},
     "output_type": "display_data"
    }
   ],
   "source": [
    "rolling_mean_50 = log(train['Close']).rolling(window=50).mean()\n",
    "rolling_std_50 = log(train['Close']).rolling(window=50).std()\n",
    "plt.figure(figsize = (8,8))\n",
    "plt.plot(log(train['Close']), color = 'g', label = 'Log Transformed')\n",
    "plt.plot(rolling_mean_50, color = 'r', label = 'rolling mean 50')\n",
    "plt.plot(rolling_std_50, color = 'r', label = 'rolling std 50')\n",
    "plt.xlabel('Time')\n",
    "plt.legend()\n",
    "plt.title('Mean and Standard Deviation on Log transformed data',  fontsize = 20)"
   ]
  },
  {
   "cell_type": "markdown",
   "id": "0ad62036",
   "metadata": {},
   "source": [
    "##### To Removing Linear Trend"
   ]
  },
  {
   "cell_type": "markdown",
   "id": "037a1b1d",
   "metadata": {},
   "source": [
    "###### We will now perform the first difference transformation to our series to remove the linear trend."
   ]
  },
  {
   "cell_type": "code",
   "execution_count": 22,
   "id": "463b968f",
   "metadata": {},
   "outputs": [],
   "source": [
    "mean_log = log(train['Close']).rolling(50).mean()"
   ]
  },
  {
   "cell_type": "code",
   "execution_count": 23,
   "id": "14aa5e04",
   "metadata": {},
   "outputs": [
    {
     "name": "stdout",
     "output_type": "stream",
     "text": [
      "ADF Statistic: -4.953336\n",
      "p-value: 0.000027\n",
      "No of Lags Used: 1.000000\n",
      "Number of Obs Used: 1549.000000\n",
      "Critical Values:\n",
      "\t1%: -3.435\n",
      "\t5%: -2.863\n",
      "\t10%: -2.568\n",
      "Reject against the null hypothesis, time series is stationary\n"
     ]
    }
   ],
   "source": [
    "train_log_diff = log(train['Close'])-mean_log\n",
    "train_log_diff.dropna(inplace=True)\n",
    "adfullerTest(train_log_diff)"
   ]
  },
  {
   "cell_type": "code",
   "execution_count": 24,
   "id": "4788ead4",
   "metadata": {},
   "outputs": [
    {
     "data": {
      "text/plain": [
       "Text(0.5, 1.0, 'Mean and Standard Deviation on Differential Log Transformed data')"
      ]
     },
     "execution_count": 24,
     "metadata": {},
     "output_type": "execute_result"
    },
    {
     "data": {
      "image/png": "[encoded data removed]",
      "text/plain": [
       "<Figure size 800x800 with 1 Axes>"
      ]
     },
     "metadata": {},
     "output_type": "display_data"
    }
   ],
   "source": [
    "data=   train_log_diff\n",
    "mean = data.rolling(50).mean()\n",
    "std = data.rolling(50).std()\n",
    "plt.figure(figsize = (8,8))\n",
    "plt.plot(data, color = 'g', label = 'Differential Log Transformed data')\n",
    "plt.plot(mean, color = 'r', label = 'rolling mean')\n",
    "plt.plot(std, color = 'b', label = 'rolling std')\n",
    "plt.xlabel('Time')\n",
    "plt.legend()\n",
    "plt.title('Mean and Standard Deviation on Differential Log Transformed data',  fontsize = 20)"
   ]
  },
  {
   "cell_type": "markdown",
   "id": "6994f434",
   "metadata": {},
   "source": [
    "Rejecting the null hypothesis means that the process has no unit root, and in turn that the time series is stationary or does not have time-dependent structure.\n",
    "Here we can also observe that there is no such trend in mean and Standard deviation\n",
    "So the now time series is statinary"
   ]
  },
  {
   "cell_type": "markdown",
   "id": "053c878a",
   "metadata": {},
   "source": [
    "Now the data is stationary we can apply ARIMA model to our data"
   ]
  },
  {
   "cell_type": "markdown",
   "id": "3fcb8ba0",
   "metadata": {},
   "source": [
    "### ARIMA Model "
   ]
  },
  {
   "cell_type": "markdown",
   "id": "464ad2a6",
   "metadata": {},
   "source": [
    "    AR: Autoregression. A model that uses the dependent relationship between an observation and some number of lagged observations.\n",
    "    I: Integrated. The use of differencing of raw observations (e.g. subtracting an observation from an observation at the previous time step) in order to make the time series stationary.\n",
    "    MA: Moving Average. A model that uses the dependency between an observation and a residual error from a moving average model applied to lagged observations."
   ]
  },
  {
   "cell_type": "markdown",
   "id": "e2ea6db7",
   "metadata": {},
   "source": [
    "The parameters of the ARIMA model are defined as follows:\n",
    "\n",
    "    p: The number of lag observations included in the model, also called the lag order.\n",
    "    d: The number of times that the raw observations are differenced, also called the degree of differencing.\n",
    "    q: The size of the moving average window, also called the order of moving average."
   ]
  },
  {
   "cell_type": "code",
   "execution_count": 25,
   "id": "a105f0f7",
   "metadata": {},
   "outputs": [],
   "source": [
    "import pmdarima as pmd\n",
    "\n",
    "def arimamodel(timeseriesarray):\n",
    "    autoarima_model = pmd.auto_arima(timeseriesarray, \n",
    "                             # start_p=1, \n",
    "                              #start_q=1,\n",
    "                              #test=\"adf\",\n",
    "                              trace=True,\n",
    "                              error_action = 'ignore',\n",
    "                              suppress_warnings = True)\n",
    "    return autoarima_model"
   ]
  },
  {
   "cell_type": "code",
   "execution_count": 26,
   "id": "ef4a08b6",
   "metadata": {},
   "outputs": [
    {
     "name": "stdout",
     "output_type": "stream",
     "text": [
      "Performing stepwise search to minimize aic\n",
      " ARIMA(2,1,2)(0,0,0)[0] intercept   : AIC=-8500.263, Time=2.29 sec\n",
      " ARIMA(0,1,0)(0,0,0)[0] intercept   : AIC=-8506.062, Time=0.29 sec\n",
      " ARIMA(1,1,0)(0,0,0)[0] intercept   : AIC=-8504.636, Time=0.20 sec\n",
      " ARIMA(0,1,1)(0,0,0)[0] intercept   : AIC=-8504.637, Time=0.33 sec\n",
      " ARIMA(0,1,0)(0,0,0)[0]             : AIC=-8505.259, Time=0.23 sec\n",
      " ARIMA(1,1,1)(0,0,0)[0] intercept   : AIC=-8502.631, Time=1.16 sec\n",
      "\n",
      "Best model:  ARIMA(0,1,0)(0,0,0)[0] intercept\n",
      "Total fit time: 4.610 seconds\n"
     ]
    },
    {
     "data": {
      "text/html": [
       "<table class=\"simpletable\">\n",
       "<caption>SARIMAX Results</caption>\n",
       "<tr>\n",
       "  <th>Dep. Variable:</th>           <td>y</td>        <th>  No. Observations:  </th>   <td>1600</td>   \n",
       "</tr>\n",
       "<tr>\n",
       "  <th>Model:</th>           <td>SARIMAX(0, 1, 0)</td> <th>  Log Likelihood     </th> <td>4255.031</td> \n",
       "</tr>\n",
       "<tr>\n",
       "  <th>Date:</th>            <td>Wed, 21 Sep 2022</td> <th>  AIC                </th> <td>-8506.062</td>\n",
       "</tr>\n",
       "<tr>\n",
       "  <th>Time:</th>                <td>21:19:20</td>     <th>  BIC                </th> <td>-8495.308</td>\n",
       "</tr>\n",
       "<tr>\n",
       "  <th>Sample:</th>                  <td>0</td>        <th>  HQIC               </th> <td>-8502.069</td>\n",
       "</tr>\n",
       "<tr>\n",
       "  <th></th>                      <td> - 1600</td>     <th>                     </th>     <td> </td>    \n",
       "</tr>\n",
       "<tr>\n",
       "  <th>Covariance Type:</th>        <td>opg</td>       <th>                     </th>     <td> </td>    \n",
       "</tr>\n",
       "</table>\n",
       "<table class=\"simpletable\">\n",
       "<tr>\n",
       "      <td></td>         <th>coef</th>     <th>std err</th>      <th>z</th>      <th>P>|z|</th>  <th>[0.025</th>    <th>0.975]</th>  \n",
       "</tr>\n",
       "<tr>\n",
       "  <th>intercept</th> <td>    0.0007</td> <td>    0.000</td> <td>    1.663</td> <td> 0.096</td> <td>   -0.000</td> <td>    0.002</td>\n",
       "</tr>\n",
       "<tr>\n",
       "  <th>sigma2</th>    <td>    0.0003</td> <td> 5.65e-06</td> <td>   50.606</td> <td> 0.000</td> <td>    0.000</td> <td>    0.000</td>\n",
       "</tr>\n",
       "</table>\n",
       "<table class=\"simpletable\">\n",
       "<tr>\n",
       "  <th>Ljung-Box (L1) (Q):</th>     <td>0.58</td> <th>  Jarque-Bera (JB):  </th> <td>1375.41</td>\n",
       "</tr>\n",
       "<tr>\n",
       "  <th>Prob(Q):</th>                <td>0.45</td> <th>  Prob(JB):          </th>  <td>0.00</td>  \n",
       "</tr>\n",
       "<tr>\n",
       "  <th>Heteroskedasticity (H):</th> <td>0.92</td> <th>  Skew:              </th>  <td>-0.31</td> \n",
       "</tr>\n",
       "<tr>\n",
       "  <th>Prob(H) (two-sided):</th>    <td>0.32</td> <th>  Kurtosis:          </th>  <td>7.50</td>  \n",
       "</tr>\n",
       "</table><br/><br/>Warnings:<br/>[1] Covariance matrix calculated using the outer product of gradients (complex-step)."
      ],
      "text/plain": [
       "<class 'statsmodels.iolib.summary.Summary'>\n",
       "\"\"\"\n",
       "                               SARIMAX Results                                \n",
       "==============================================================================\n",
       "Dep. Variable:                      y   No. Observations:                 1600\n",
       "Model:               SARIMAX(0, 1, 0)   Log Likelihood                4255.031\n",
       "Date:                Wed, 21 Sep 2022   AIC                          -8506.062\n",
       "Time:                        21:19:20   BIC                          -8495.308\n",
       "Sample:                             0   HQIC                         -8502.069\n",
       "                               - 1600                                         \n",
       "Covariance Type:                  opg                                         \n",
       "==============================================================================\n",
       "                 coef    std err          z      P>|z|      [0.025      0.975]\n",
       "------------------------------------------------------------------------------\n",
       "intercept      0.0007      0.000      1.663      0.096      -0.000       0.002\n",
       "sigma2         0.0003   5.65e-06     50.606      0.000       0.000       0.000\n",
       "===================================================================================\n",
       "Ljung-Box (L1) (Q):                   0.58   Jarque-Bera (JB):              1375.41\n",
       "Prob(Q):                              0.45   Prob(JB):                         0.00\n",
       "Heteroskedasticity (H):               0.92   Skew:                            -0.31\n",
       "Prob(H) (two-sided):                  0.32   Kurtosis:                         7.50\n",
       "===================================================================================\n",
       "\n",
       "Warnings:\n",
       "[1] Covariance matrix calculated using the outer product of gradients (complex-step).\n",
       "\"\"\""
      ]
     },
     "execution_count": 26,
     "metadata": {},
     "output_type": "execute_result"
    }
   ],
   "source": [
    "stocks_arima = arimamodel((train_log))\n",
    "stocks_arima.summary()"
   ]
  },
  {
   "cell_type": "code",
   "execution_count": 27,
   "id": "2250caf9",
   "metadata": {},
   "outputs": [
    {
     "data": {
      "image/png": "[encoded data removed]",
      "text/plain": [
       "<Figure size 1000x1000 with 4 Axes>"
      ]
     },
     "metadata": {},
     "output_type": "display_data"
    }
   ],
   "source": [
    "stocks_arima.plot_diagnostics(figsize=(10,10))\n",
    "plt.show()"
   ]
  },
  {
   "cell_type": "markdown",
   "id": "38d30b21",
   "metadata": {},
   "source": [
    "# Predictions on test data"
   ]
  },
  {
   "cell_type": "code",
   "execution_count": 28,
   "id": "34a151a5",
   "metadata": {},
   "outputs": [],
   "source": [
    "predict_ClosePrice = stocks_arima.predict(n_periods = len(test_log))\n",
    "predict_ClosePrice = pd.DataFrame(predict_ClosePrice,index = test_log.index,columns = ['predict_ClosePrice'])"
   ]
  },
  {
   "cell_type": "code",
   "execution_count": 29,
   "id": "1835ccab",
   "metadata": {},
   "outputs": [
    {
     "data": {
      "text/plain": [
       "Text(0, 0.5, 'Actual Stock Price')"
      ]
     },
     "execution_count": 29,
     "metadata": {},
     "output_type": "execute_result"
    },
    {
     "data": {
      "image/png": "[encoded data removed]",
      "text/plain": [
       "<Figure size 640x480 with 1 Axes>"
      ]
     },
     "metadata": {},
     "output_type": "display_data"
    }
   ],
   "source": [
    "plt.plot(train_log, label='Train')\n",
    "plt.plot(test_log,label='Test')\n",
    "plt.plot(predict_ClosePrice, label='Prediction')\n",
    "plt.title('Stock Price Prediction')\n",
    "plt.xlabel('Time')\n",
    "plt.ylabel('Actual Stock Price')"
   ]
  },
  {
   "cell_type": "markdown",
   "id": "808feadb",
   "metadata": {},
   "source": [
    "### Validation of the Arima Model"
   ]
  },
  {
   "cell_type": "code",
   "execution_count": 30,
   "id": "e33fc04d",
   "metadata": {},
   "outputs": [
    {
     "name": "stdout",
     "output_type": "stream",
     "text": [
      "Mean Squared Error       0.31291750984419014\n",
      "Root Mean_Squared_Error  0.5593903018860714\n",
      "Mean Absolute Error      0.4689936457131172\n",
      "R-Squared                0.1674999149797537\n"
     ]
    }
   ],
   "source": [
    "print('Mean Squared Error      ',mean_squared_error(test_log, predict_ClosePrice))\n",
    "print('Root Mean_Squared_Error ',np.sqrt(mean_squared_error(test_log, predict_ClosePrice)))\n",
    "print('Mean Absolute Error     ',mean_absolute_error(test_log, predict_ClosePrice))\n",
    "print('R-Squared               ',r2_score(test_log, predict_ClosePrice))"
   ]
  },
  {
   "cell_type": "markdown",
   "id": "6b464594",
   "metadata": {},
   "source": [
    "## Analyzing  news dataset "
   ]
  },
  {
   "cell_type": "code",
   "execution_count": 31,
   "id": "37d2b9ea",
   "metadata": {},
   "outputs": [],
   "source": [
    "news=pd.read_csv(\"C:\\\\Users\\\\rangadi MD aamir\\\\spark Foundation task\\\\task 7 Stock Market prediction using numerical & txt\\\\india-news-headlines.csv\")"
   ]
  },
  {
   "cell_type": "code",
   "execution_count": 32,
   "id": "d7e1ded5",
   "metadata": {},
   "outputs": [
    {
     "data": {
      "text/html": [
       "<div>\n",
       "<style scoped>\n",
       "    .dataframe tbody tr th:only-of-type {\n",
       "        vertical-align: middle;\n",
       "    }\n",
       "\n",
       "    .dataframe tbody tr th {\n",
       "        vertical-align: top;\n",
       "    }\n",
       "\n",
       "    .dataframe thead th {\n",
       "        text-align: right;\n",
       "    }\n",
       "</style>\n",
       "<table border=\"1\" class=\"dataframe\">\n",
       "  <thead>\n",
       "    <tr style=\"text-align: right;\">\n",
       "      <th></th>\n",
       "      <th>publish_date</th>\n",
       "      <th>headline_category</th>\n",
       "      <th>headline_text</th>\n",
       "    </tr>\n",
       "  </thead>\n",
       "  <tbody>\n",
       "    <tr>\n",
       "      <th>0</th>\n",
       "      <td>20010102</td>\n",
       "      <td>unknown</td>\n",
       "      <td>Status quo will not be disturbed at Ayodhya; s...</td>\n",
       "    </tr>\n",
       "    <tr>\n",
       "      <th>1</th>\n",
       "      <td>20010102</td>\n",
       "      <td>unknown</td>\n",
       "      <td>Fissures in Hurriyat over Pak visit</td>\n",
       "    </tr>\n",
       "    <tr>\n",
       "      <th>2</th>\n",
       "      <td>20010102</td>\n",
       "      <td>unknown</td>\n",
       "      <td>America's unwanted heading for India?</td>\n",
       "    </tr>\n",
       "    <tr>\n",
       "      <th>3</th>\n",
       "      <td>20010102</td>\n",
       "      <td>unknown</td>\n",
       "      <td>For bigwigs; it is destination Goa</td>\n",
       "    </tr>\n",
       "    <tr>\n",
       "      <th>4</th>\n",
       "      <td>20010102</td>\n",
       "      <td>unknown</td>\n",
       "      <td>Extra buses to clear tourist traffic</td>\n",
       "    </tr>\n",
       "  </tbody>\n",
       "</table>\n",
       "</div>"
      ],
      "text/plain": [
       "   publish_date headline_category  \\\n",
       "0      20010102           unknown   \n",
       "1      20010102           unknown   \n",
       "2      20010102           unknown   \n",
       "3      20010102           unknown   \n",
       "4      20010102           unknown   \n",
       "\n",
       "                                       headline_text  \n",
       "0  Status quo will not be disturbed at Ayodhya; s...  \n",
       "1                Fissures in Hurriyat over Pak visit  \n",
       "2              America's unwanted heading for India?  \n",
       "3                 For bigwigs; it is destination Goa  \n",
       "4               Extra buses to clear tourist traffic  "
      ]
     },
     "execution_count": 32,
     "metadata": {},
     "output_type": "execute_result"
    }
   ],
   "source": [
    "news.head()"
   ]
  },
  {
   "cell_type": "code",
   "execution_count": 33,
   "id": "30586c51",
   "metadata": {},
   "outputs": [
    {
     "data": {
      "text/html": [
       "<div>\n",
       "<style scoped>\n",
       "    .dataframe tbody tr th:only-of-type {\n",
       "        vertical-align: middle;\n",
       "    }\n",
       "\n",
       "    .dataframe tbody tr th {\n",
       "        vertical-align: top;\n",
       "    }\n",
       "\n",
       "    .dataframe thead th {\n",
       "        text-align: right;\n",
       "    }\n",
       "</style>\n",
       "<table border=\"1\" class=\"dataframe\">\n",
       "  <thead>\n",
       "    <tr style=\"text-align: right;\">\n",
       "      <th></th>\n",
       "      <th>publish_date</th>\n",
       "      <th>headline_category</th>\n",
       "      <th>headline_text</th>\n",
       "    </tr>\n",
       "  </thead>\n",
       "  <tbody>\n",
       "    <tr>\n",
       "      <th>0</th>\n",
       "      <td>2001-01-02</td>\n",
       "      <td>unknown</td>\n",
       "      <td>Status quo will not be disturbed at Ayodhya; s...</td>\n",
       "    </tr>\n",
       "    <tr>\n",
       "      <th>1</th>\n",
       "      <td>2001-01-02</td>\n",
       "      <td>unknown</td>\n",
       "      <td>Fissures in Hurriyat over Pak visit</td>\n",
       "    </tr>\n",
       "    <tr>\n",
       "      <th>2</th>\n",
       "      <td>2001-01-02</td>\n",
       "      <td>unknown</td>\n",
       "      <td>America's unwanted heading for India?</td>\n",
       "    </tr>\n",
       "    <tr>\n",
       "      <th>3</th>\n",
       "      <td>2001-01-02</td>\n",
       "      <td>unknown</td>\n",
       "      <td>For bigwigs; it is destination Goa</td>\n",
       "    </tr>\n",
       "    <tr>\n",
       "      <th>4</th>\n",
       "      <td>2001-01-02</td>\n",
       "      <td>unknown</td>\n",
       "      <td>Extra buses to clear tourist traffic</td>\n",
       "    </tr>\n",
       "  </tbody>\n",
       "</table>\n",
       "</div>"
      ],
      "text/plain": [
       "  publish_date headline_category  \\\n",
       "0   2001-01-02           unknown   \n",
       "1   2001-01-02           unknown   \n",
       "2   2001-01-02           unknown   \n",
       "3   2001-01-02           unknown   \n",
       "4   2001-01-02           unknown   \n",
       "\n",
       "                                       headline_text  \n",
       "0  Status quo will not be disturbed at Ayodhya; s...  \n",
       "1                Fissures in Hurriyat over Pak visit  \n",
       "2              America's unwanted heading for India?  \n",
       "3                 For bigwigs; it is destination Goa  \n",
       "4               Extra buses to clear tourist traffic  "
      ]
     },
     "execution_count": 33,
     "metadata": {},
     "output_type": "execute_result"
    }
   ],
   "source": [
    "news['publish_date'] = pd.to_datetime(news['publish_date'],format= '%Y%m%d')\n",
    "news.head()"
   ]
  },
  {
   "cell_type": "code",
   "execution_count": 34,
   "id": "88aef8a2",
   "metadata": {},
   "outputs": [
    {
     "data": {
      "text/plain": [
       "publish_date         0\n",
       "headline_category    0\n",
       "headline_text        0\n",
       "dtype: int64"
      ]
     },
     "execution_count": 34,
     "metadata": {},
     "output_type": "execute_result"
    }
   ],
   "source": [
    "news.isna().sum()"
   ]
  },
  {
   "cell_type": "code",
   "execution_count": 35,
   "id": "8c9534f4",
   "metadata": {},
   "outputs": [
    {
     "data": {
      "text/plain": [
       "(3650970, 3)"
      ]
     },
     "execution_count": 35,
     "metadata": {},
     "output_type": "execute_result"
    }
   ],
   "source": [
    "news.shape"
   ]
  },
  {
   "cell_type": "code",
   "execution_count": 36,
   "id": "8345f7bb",
   "metadata": {},
   "outputs": [
    {
     "data": {
      "text/plain": [
       "Index(['publish_date', 'headline_category', 'headline_text'], dtype='object')"
      ]
     },
     "execution_count": 36,
     "metadata": {},
     "output_type": "execute_result"
    }
   ],
   "source": [
    "(news.columns)"
   ]
  },
  {
   "cell_type": "markdown",
   "id": "823549fd",
   "metadata": {},
   "source": [
    "### Analaysing \"HEADLINE_CATEGORY\" with \"CITIES\""
   ]
  },
  {
   "cell_type": "code",
   "execution_count": 37,
   "id": "cae9ec5a",
   "metadata": {},
   "outputs": [
    {
     "data": {
      "text/plain": [
       "india                      297491\n",
       "unknown                    209583\n",
       "city.mumbai                150451\n",
       "city.delhi                 137648\n",
       "business.india-business    121195\n",
       "Name: headline_category, dtype: int64"
      ]
     },
     "execution_count": 37,
     "metadata": {},
     "output_type": "execute_result"
    }
   ],
   "source": [
    "news['headline_category'].value_counts().head()"
   ]
  },
  {
   "cell_type": "code",
   "execution_count": 38,
   "id": "38d41978",
   "metadata": {},
   "outputs": [
    {
     "data": {
      "text/html": [
       "<div>\n",
       "<style scoped>\n",
       "    .dataframe tbody tr th:only-of-type {\n",
       "        vertical-align: middle;\n",
       "    }\n",
       "\n",
       "    .dataframe tbody tr th {\n",
       "        vertical-align: top;\n",
       "    }\n",
       "\n",
       "    .dataframe thead th {\n",
       "        text-align: right;\n",
       "    }\n",
       "</style>\n",
       "<table border=\"1\" class=\"dataframe\">\n",
       "  <thead>\n",
       "    <tr style=\"text-align: right;\">\n",
       "      <th></th>\n",
       "      <th>publish_date</th>\n",
       "      <th>headline_category</th>\n",
       "      <th>headline_text</th>\n",
       "    </tr>\n",
       "  </thead>\n",
       "  <tbody>\n",
       "    <tr>\n",
       "      <th>273</th>\n",
       "      <td>2001-01-04</td>\n",
       "      <td>city.bengaluru</td>\n",
       "      <td>Three in race for chief secy's post</td>\n",
       "    </tr>\n",
       "    <tr>\n",
       "      <th>274</th>\n",
       "      <td>2001-01-04</td>\n",
       "      <td>city.patna</td>\n",
       "      <td>Druggists' stir leads to shortage of medicines</td>\n",
       "    </tr>\n",
       "    <tr>\n",
       "      <th>277</th>\n",
       "      <td>2001-01-04</td>\n",
       "      <td>city.bengaluru</td>\n",
       "      <td>He's not so inscrutable</td>\n",
       "    </tr>\n",
       "    <tr>\n",
       "      <th>278</th>\n",
       "      <td>2001-01-04</td>\n",
       "      <td>city.delhi</td>\n",
       "      <td>DPCC stages Nyay rally</td>\n",
       "    </tr>\n",
       "    <tr>\n",
       "      <th>642</th>\n",
       "      <td>2001-01-10</td>\n",
       "      <td>city.patna</td>\n",
       "      <td>Fend for yourselves; Pande tells doctors</td>\n",
       "    </tr>\n",
       "    <tr>\n",
       "      <th>643</th>\n",
       "      <td>2001-01-10</td>\n",
       "      <td>city.patna</td>\n",
       "      <td>Bureaucracy undermining legislature's 'existence'</td>\n",
       "    </tr>\n",
       "    <tr>\n",
       "      <th>644</th>\n",
       "      <td>2001-01-10</td>\n",
       "      <td>city.patna</td>\n",
       "      <td>State police collapses under pressure</td>\n",
       "    </tr>\n",
       "    <tr>\n",
       "      <th>645</th>\n",
       "      <td>2001-01-10</td>\n",
       "      <td>city.patna</td>\n",
       "      <td>Court declares Pappu Yadav an absconder</td>\n",
       "    </tr>\n",
       "    <tr>\n",
       "      <th>2215</th>\n",
       "      <td>2001-03-09</td>\n",
       "      <td>city.delhi</td>\n",
       "      <td>Maneka asks govt to take back land for cow she...</td>\n",
       "    </tr>\n",
       "    <tr>\n",
       "      <th>3603</th>\n",
       "      <td>2001-04-23</td>\n",
       "      <td>city.ahmedabad</td>\n",
       "      <td>Killer was promised Rs 25;000 for killing Nair...</td>\n",
       "    </tr>\n",
       "  </tbody>\n",
       "</table>\n",
       "</div>"
      ],
      "text/plain": [
       "     publish_date headline_category  \\\n",
       "273    2001-01-04    city.bengaluru   \n",
       "274    2001-01-04        city.patna   \n",
       "277    2001-01-04    city.bengaluru   \n",
       "278    2001-01-04        city.delhi   \n",
       "642    2001-01-10        city.patna   \n",
       "643    2001-01-10        city.patna   \n",
       "644    2001-01-10        city.patna   \n",
       "645    2001-01-10        city.patna   \n",
       "2215   2001-03-09        city.delhi   \n",
       "3603   2001-04-23    city.ahmedabad   \n",
       "\n",
       "                                          headline_text  \n",
       "273                 Three in race for chief secy's post  \n",
       "274      Druggists' stir leads to shortage of medicines  \n",
       "277                             He's not so inscrutable  \n",
       "278                              DPCC stages Nyay rally  \n",
       "642            Fend for yourselves; Pande tells doctors  \n",
       "643   Bureaucracy undermining legislature's 'existence'  \n",
       "644               State police collapses under pressure  \n",
       "645             Court declares Pappu Yadav an absconder  \n",
       "2215  Maneka asks govt to take back land for cow she...  \n",
       "3603  Killer was promised Rs 25;000 for killing Nair...  "
      ]
     },
     "execution_count": 38,
     "metadata": {},
     "output_type": "execute_result"
    }
   ],
   "source": [
    "cities = news[news['headline_category'].str.contains('^city\\.[a-z]+$', regex=True)]\n",
    "cities.head(10)"
   ]
  },
  {
   "cell_type": "code",
   "execution_count": 39,
   "id": "21f3ef48",
   "metadata": {},
   "outputs": [
    {
     "data": {
      "text/html": [
       "<div>\n",
       "<style scoped>\n",
       "    .dataframe tbody tr th:only-of-type {\n",
       "        vertical-align: middle;\n",
       "    }\n",
       "\n",
       "    .dataframe tbody tr th {\n",
       "        vertical-align: top;\n",
       "    }\n",
       "\n",
       "    .dataframe thead th {\n",
       "        text-align: right;\n",
       "    }\n",
       "</style>\n",
       "<table border=\"1\" class=\"dataframe\">\n",
       "  <thead>\n",
       "    <tr style=\"text-align: right;\">\n",
       "      <th></th>\n",
       "      <th>publish_date</th>\n",
       "      <th>headline_category</th>\n",
       "      <th>headline_text</th>\n",
       "      <th>city_name</th>\n",
       "    </tr>\n",
       "  </thead>\n",
       "  <tbody>\n",
       "    <tr>\n",
       "      <th>273</th>\n",
       "      <td>2001-01-04</td>\n",
       "      <td>city.bengaluru</td>\n",
       "      <td>Three in race for chief secy's post</td>\n",
       "      <td>bengaluru</td>\n",
       "    </tr>\n",
       "    <tr>\n",
       "      <th>274</th>\n",
       "      <td>2001-01-04</td>\n",
       "      <td>city.patna</td>\n",
       "      <td>Druggists' stir leads to shortage of medicines</td>\n",
       "      <td>patna</td>\n",
       "    </tr>\n",
       "    <tr>\n",
       "      <th>277</th>\n",
       "      <td>2001-01-04</td>\n",
       "      <td>city.bengaluru</td>\n",
       "      <td>He's not so inscrutable</td>\n",
       "      <td>bengaluru</td>\n",
       "    </tr>\n",
       "    <tr>\n",
       "      <th>278</th>\n",
       "      <td>2001-01-04</td>\n",
       "      <td>city.delhi</td>\n",
       "      <td>DPCC stages Nyay rally</td>\n",
       "      <td>delhi</td>\n",
       "    </tr>\n",
       "    <tr>\n",
       "      <th>642</th>\n",
       "      <td>2001-01-10</td>\n",
       "      <td>city.patna</td>\n",
       "      <td>Fend for yourselves; Pande tells doctors</td>\n",
       "      <td>patna</td>\n",
       "    </tr>\n",
       "  </tbody>\n",
       "</table>\n",
       "</div>"
      ],
      "text/plain": [
       "    publish_date headline_category  \\\n",
       "273   2001-01-04    city.bengaluru   \n",
       "274   2001-01-04        city.patna   \n",
       "277   2001-01-04    city.bengaluru   \n",
       "278   2001-01-04        city.delhi   \n",
       "642   2001-01-10        city.patna   \n",
       "\n",
       "                                      headline_text  city_name  \n",
       "273             Three in race for chief secy's post  bengaluru  \n",
       "274  Druggists' stir leads to shortage of medicines      patna  \n",
       "277                         He's not so inscrutable  bengaluru  \n",
       "278                          DPCC stages Nyay rally      delhi  \n",
       "642        Fend for yourselves; Pande tells doctors      patna  "
      ]
     },
     "execution_count": 39,
     "metadata": {},
     "output_type": "execute_result"
    }
   ],
   "source": [
    "city = pd.DataFrame(columns = ['city_name'])\n",
    "city['city_name'] = cities.headline_category.str.split('.',expand = True)[1]\n",
    "cities = pd.concat([cities, city], axis = 1)\n",
    "cities.head()\n"
   ]
  },
  {
   "cell_type": "code",
   "execution_count": 40,
   "id": "c908595f",
   "metadata": {},
   "outputs": [],
   "source": [
    "cities.drop('headline_category', inplace =True,axis =1)\n"
   ]
  },
  {
   "cell_type": "code",
   "execution_count": 41,
   "id": "8ead3bef",
   "metadata": {},
   "outputs": [
    {
     "data": {
      "text/html": [
       "<div>\n",
       "<style scoped>\n",
       "    .dataframe tbody tr th:only-of-type {\n",
       "        vertical-align: middle;\n",
       "    }\n",
       "\n",
       "    .dataframe tbody tr th {\n",
       "        vertical-align: top;\n",
       "    }\n",
       "\n",
       "    .dataframe thead th {\n",
       "        text-align: right;\n",
       "    }\n",
       "</style>\n",
       "<table border=\"1\" class=\"dataframe\">\n",
       "  <thead>\n",
       "    <tr style=\"text-align: right;\">\n",
       "      <th></th>\n",
       "      <th>publish_date</th>\n",
       "      <th>headline_text</th>\n",
       "      <th>city_name</th>\n",
       "    </tr>\n",
       "  </thead>\n",
       "  <tbody>\n",
       "    <tr>\n",
       "      <th>273</th>\n",
       "      <td>2001-01-04</td>\n",
       "      <td>Three in race for chief secy's post</td>\n",
       "      <td>bengaluru</td>\n",
       "    </tr>\n",
       "    <tr>\n",
       "      <th>274</th>\n",
       "      <td>2001-01-04</td>\n",
       "      <td>Druggists' stir leads to shortage of medicines</td>\n",
       "      <td>patna</td>\n",
       "    </tr>\n",
       "    <tr>\n",
       "      <th>277</th>\n",
       "      <td>2001-01-04</td>\n",
       "      <td>He's not so inscrutable</td>\n",
       "      <td>bengaluru</td>\n",
       "    </tr>\n",
       "    <tr>\n",
       "      <th>278</th>\n",
       "      <td>2001-01-04</td>\n",
       "      <td>DPCC stages Nyay rally</td>\n",
       "      <td>delhi</td>\n",
       "    </tr>\n",
       "    <tr>\n",
       "      <th>642</th>\n",
       "      <td>2001-01-10</td>\n",
       "      <td>Fend for yourselves; Pande tells doctors</td>\n",
       "      <td>patna</td>\n",
       "    </tr>\n",
       "  </tbody>\n",
       "</table>\n",
       "</div>"
      ],
      "text/plain": [
       "    publish_date                                   headline_text  city_name\n",
       "273   2001-01-04             Three in race for chief secy's post  bengaluru\n",
       "274   2001-01-04  Druggists' stir leads to shortage of medicines      patna\n",
       "277   2001-01-04                         He's not so inscrutable  bengaluru\n",
       "278   2001-01-04                          DPCC stages Nyay rally      delhi\n",
       "642   2001-01-10        Fend for yourselves; Pande tells doctors      patna"
      ]
     },
     "execution_count": 41,
     "metadata": {},
     "output_type": "execute_result"
    }
   ],
   "source": [
    "cities.head()"
   ]
  },
  {
   "cell_type": "code",
   "execution_count": 42,
   "id": "ea0111bc",
   "metadata": {},
   "outputs": [
    {
     "data": {
      "text/html": [
       "<div>\n",
       "<style scoped>\n",
       "    .dataframe tbody tr th:only-of-type {\n",
       "        vertical-align: middle;\n",
       "    }\n",
       "\n",
       "    .dataframe tbody tr th {\n",
       "        vertical-align: top;\n",
       "    }\n",
       "\n",
       "    .dataframe thead th {\n",
       "        text-align: right;\n",
       "    }\n",
       "</style>\n",
       "<table border=\"1\" class=\"dataframe\">\n",
       "  <thead>\n",
       "    <tr style=\"text-align: right;\">\n",
       "      <th></th>\n",
       "      <th>headline_text</th>\n",
       "    </tr>\n",
       "    <tr>\n",
       "      <th>city_name</th>\n",
       "      <th></th>\n",
       "    </tr>\n",
       "  </thead>\n",
       "  <tbody>\n",
       "    <tr>\n",
       "      <th>agartala</th>\n",
       "      <td>1249</td>\n",
       "    </tr>\n",
       "    <tr>\n",
       "      <th>agra</th>\n",
       "      <td>6209</td>\n",
       "    </tr>\n",
       "    <tr>\n",
       "      <th>ahmedabad</th>\n",
       "      <td>98269</td>\n",
       "    </tr>\n",
       "    <tr>\n",
       "      <th>ajmer</th>\n",
       "      <td>2033</td>\n",
       "    </tr>\n",
       "    <tr>\n",
       "      <th>allahabad</th>\n",
       "      <td>20864</td>\n",
       "    </tr>\n",
       "  </tbody>\n",
       "</table>\n",
       "</div>"
      ],
      "text/plain": [
       "           headline_text\n",
       "city_name               \n",
       "agartala            1249\n",
       "agra                6209\n",
       "ahmedabad          98269\n",
       "ajmer               2033\n",
       "allahabad          20864"
      ]
     },
     "execution_count": 42,
     "metadata": {},
     "output_type": "execute_result"
    }
   ],
   "source": [
    "cites = cities.groupby(cities['city_name']).agg({'headline_text':'count'})\n",
    "cites.head()"
   ]
  },
  {
   "cell_type": "code",
   "execution_count": 43,
   "id": "4f5bb763",
   "metadata": {},
   "outputs": [],
   "source": [
    "cites.rename(columns = {'headline_text':'headline_count'}, inplace = True)"
   ]
  },
  {
   "cell_type": "code",
   "execution_count": 44,
   "id": "40391ff7",
   "metadata": {},
   "outputs": [
    {
     "data": {
      "text/html": [
       "<div>\n",
       "<style scoped>\n",
       "    .dataframe tbody tr th:only-of-type {\n",
       "        vertical-align: middle;\n",
       "    }\n",
       "\n",
       "    .dataframe tbody tr th {\n",
       "        vertical-align: top;\n",
       "    }\n",
       "\n",
       "    .dataframe thead th {\n",
       "        text-align: right;\n",
       "    }\n",
       "</style>\n",
       "<table border=\"1\" class=\"dataframe\">\n",
       "  <thead>\n",
       "    <tr style=\"text-align: right;\">\n",
       "      <th></th>\n",
       "      <th>headline_count</th>\n",
       "    </tr>\n",
       "    <tr>\n",
       "      <th>city_name</th>\n",
       "      <th></th>\n",
       "    </tr>\n",
       "  </thead>\n",
       "  <tbody>\n",
       "    <tr>\n",
       "      <th>mumbai</th>\n",
       "      <td>150451</td>\n",
       "    </tr>\n",
       "    <tr>\n",
       "      <th>delhi</th>\n",
       "      <td>137648</td>\n",
       "    </tr>\n",
       "    <tr>\n",
       "      <th>hyderabad</th>\n",
       "      <td>119024</td>\n",
       "    </tr>\n",
       "    <tr>\n",
       "      <th>chandigarh</th>\n",
       "      <td>117718</td>\n",
       "    </tr>\n",
       "    <tr>\n",
       "      <th>bengaluru</th>\n",
       "      <td>98635</td>\n",
       "    </tr>\n",
       "  </tbody>\n",
       "</table>\n",
       "</div>"
      ],
      "text/plain": [
       "            headline_count\n",
       "city_name                 \n",
       "mumbai              150451\n",
       "delhi               137648\n",
       "hyderabad           119024\n",
       "chandigarh          117718\n",
       "bengaluru            98635"
      ]
     },
     "execution_count": 44,
     "metadata": {},
     "output_type": "execute_result"
    }
   ],
   "source": [
    "cites = cites.sort_values(by='headline_count',ascending=False)\n",
    "cites.head()"
   ]
  },
  {
   "cell_type": "code",
   "execution_count": 45,
   "id": "bade5249",
   "metadata": {},
   "outputs": [],
   "source": [
    "top10cites = cites.head(10)\n"
   ]
  },
  {
   "cell_type": "code",
   "execution_count": 46,
   "id": "d785ef32",
   "metadata": {},
   "outputs": [],
   "source": [
    "def fig_plot(top10cites,title1):\n",
    "    fig = px.line(top10cites,title =title1)\n",
    "    for i in top10cites.columns[0:]:\n",
    "        fig.add_bar(x= top10cites.index ,y = top10cites['headline_count'],name = i)\n",
    "    fig.show()\n"
   ]
  },
  {
   "cell_type": "code",
   "execution_count": 47,
   "id": "eb864830",
   "metadata": {},
   "outputs": [
    {
     "data": {
      "application/vnd.plotly.v1+json": {
       "config": {
        "plotlyServerURL": "https://plot.ly"
       },
       "data": [
        {
         "hovertemplate": "variable=headline_count<br>city_name=%{x}<br>value=%{y}<extra></extra>",
         "legendgroup": "headline_count",
         "line": {
          "color": "#636efa",
          "dash": "solid"
         },
         "marker": {
          "symbol": "circle"
         },
         "mode": "lines",
         "name": "headline_count",
         "orientation": "v",
         "showlegend": true,
         "type": "scatter",
         "x": [
          "mumbai",
          "delhi",
          "hyderabad",
          "chandigarh",
          "bengaluru",
          "pune",
          "ahmedabad",
          "kolkata",
          "lucknow",
          "goa"
         ],
         "xaxis": "x",
         "y": [
          150451,
          137648,
          119024,
          117718,
          98635,
          98633,
          98269,
          93978,
          91764,
          88978
         ],
         "yaxis": "y"
        },
        {
         "name": "headline_count",
         "type": "bar",
         "x": [
          "mumbai",
          "delhi",
          "hyderabad",
          "chandigarh",
          "bengaluru",
          "pune",
          "ahmedabad",
          "kolkata",
          "lucknow",
          "goa"
         ],
         "y": [
          150451,
          137648,
          119024,
          117718,
          98635,
          98633,
          98269,
          93978,
          91764,
          88978
         ]
        }
       ],
       "layout": {
        "legend": {
         "title": {
          "text": "variable"
         },
         "tracegroupgap": 0
        },
        "template": {
         "data": {
          "bar": [
           {
            "error_x": {
             "color": "#2a3f5f"
            },
            "error_y": {
             "color": "#2a3f5f"
            },
            "marker": {
             "line": {
              "color": "#E5ECF6",
              "width": 0.5
             },
             "pattern": {
              "fillmode": "overlay",
              "size": 10,
              "solidity": 0.2
             }
            },
            "type": "bar"
           }
          ],
          "barpolar": [
           {
            "marker": {
             "line": {
              "color": "#E5ECF6",
              "width": 0.5
             },
             "pattern": {
              "fillmode": "overlay",
              "size": 10,
              "solidity": 0.2
             }
            },
            "type": "barpolar"
           }
          ],
          "carpet": [
           {
            "aaxis": {
             "endlinecolor": "#2a3f5f",
             "gridcolor": "white",
             "linecolor": "white",
             "minorgridcolor": "white",
             "startlinecolor": "#2a3f5f"
            },
            "baxis": {
             "endlinecolor": "#2a3f5f",
             "gridcolor": "white",
             "linecolor": "white",
             "minorgridcolor": "white",
             "startlinecolor": "#2a3f5f"
            },
            "type": "carpet"
           }
          ],
          "choropleth": [
           {
            "colorbar": {
             "outlinewidth": 0,
             "ticks": ""
            },
            "type": "choropleth"
           }
          ],
          "contour": [
           {
            "colorbar": {
             "outlinewidth": 0,
             "ticks": ""
            },
            "colorscale": [
             [
              0,
              "#0d0887"
             ],
             [
              0.1111111111111111,
              "#46039f"
             ],
             [
              0.2222222222222222,
              "#7201a8"
             ],
             [
              0.3333333333333333,
              "#9c179e"
             ],
             [
              0.4444444444444444,
              "#bd3786"
             ],
             [
              0.5555555555555556,
              "#d8576b"
             ],
             [
              0.6666666666666666,
              "#ed7953"
             ],
             [
              0.7777777777777778,
              "#fb9f3a"
             ],
             [
              0.8888888888888888,
              "#fdca26"
             ],
             [
              1,
              "#f0f921"
             ]
            ],
            "type": "contour"
           }
          ],
          "contourcarpet": [
           {
            "colorbar": {
             "outlinewidth": 0,
             "ticks": ""
            },
            "type": "contourcarpet"
           }
          ],
          "heatmap": [
           {
            "colorbar": {
             "outlinewidth": 0,
             "ticks": ""
            },
            "colorscale": [
             [
              0,
              "#0d0887"
             ],
             [
              0.1111111111111111,
              "#46039f"
             ],
             [
              0.2222222222222222,
              "#7201a8"
             ],
             [
              0.3333333333333333,
              "#9c179e"
             ],
             [
              0.4444444444444444,
              "#bd3786"
             ],
             [
              0.5555555555555556,
              "#d8576b"
             ],
             [
              0.6666666666666666,
              "#ed7953"
             ],
             [
              0.7777777777777778,
              "#fb9f3a"
             ],
             [
              0.8888888888888888,
              "#fdca26"
             ],
             [
              1,
              "#f0f921"
             ]
            ],
            "type": "heatmap"
           }
          ],
          "heatmapgl": [
           {
            "colorbar": {
             "outlinewidth": 0,
             "ticks": ""
            },
            "colorscale": [
             [
              0,
              "#0d0887"
             ],
             [
              0.1111111111111111,
              "#46039f"
             ],
             [
              0.2222222222222222,
              "#7201a8"
             ],
             [
              0.3333333333333333,
              "#9c179e"
             ],
             [
              0.4444444444444444,
              "#bd3786"
             ],
             [
              0.5555555555555556,
              "#d8576b"
             ],
             [
              0.6666666666666666,
              "#ed7953"
             ],
             [
              0.7777777777777778,
              "#fb9f3a"
             ],
             [
              0.8888888888888888,
              "#fdca26"
             ],
             [
              1,
              "#f0f921"
             ]
            ],
            "type": "heatmapgl"
           }
          ],
          "histogram": [
           {
            "marker": {
             "pattern": {
              "fillmode": "overlay",
              "size": 10,
              "solidity": 0.2
             }
            },
            "type": "histogram"
           }
          ],
          "histogram2d": [
           {
            "colorbar": {
             "outlinewidth": 0,
             "ticks": ""
            },
            "colorscale": [
             [
              0,
              "#0d0887"
             ],
             [
              0.1111111111111111,
              "#46039f"
             ],
             [
              0.2222222222222222,
              "#7201a8"
             ],
             [
              0.3333333333333333,
              "#9c179e"
             ],
             [
              0.4444444444444444,
              "#bd3786"
             ],
             [
              0.5555555555555556,
              "#d8576b"
             ],
             [
              0.6666666666666666,
              "#ed7953"
             ],
             [
              0.7777777777777778,
              "#fb9f3a"
             ],
             [
              0.8888888888888888,
              "#fdca26"
             ],
             [
              1,
              "#f0f921"
             ]
            ],
            "type": "histogram2d"
           }
          ],
          "histogram2dcontour": [
           {
            "colorbar": {
             "outlinewidth": 0,
             "ticks": ""
            },
            "colorscale": [
             [
              0,
              "#0d0887"
             ],
             [
              0.1111111111111111,
              "#46039f"
             ],
             [
              0.2222222222222222,
              "#7201a8"
             ],
             [
              0.3333333333333333,
              "#9c179e"
             ],
             [
              0.4444444444444444,
              "#bd3786"
             ],
             [
              0.5555555555555556,
              "#d8576b"
             ],
             [
              0.6666666666666666,
              "#ed7953"
             ],
             [
              0.7777777777777778,
              "#fb9f3a"
             ],
             [
              0.8888888888888888,
              "#fdca26"
             ],
             [
              1,
              "#f0f921"
             ]
            ],
            "type": "histogram2dcontour"
           }
          ],
          "mesh3d": [
           {
            "colorbar": {
             "outlinewidth": 0,
             "ticks": ""
            },
            "type": "mesh3d"
           }
          ],
          "parcoords": [
           {
            "line": {
             "colorbar": {
              "outlinewidth": 0,
              "ticks": ""
             }
            },
            "type": "parcoords"
           }
          ],
          "pie": [
           {
            "automargin": true,
            "type": "pie"
           }
          ],
          "scatter": [
           {
            "fillpattern": {
             "fillmode": "overlay",
             "size": 10,
             "solidity": 0.2
            },
            "type": "scatter"
           }
          ],
          "scatter3d": [
           {
            "line": {
             "colorbar": {
              "outlinewidth": 0,
              "ticks": ""
             }
            },
            "marker": {
             "colorbar": {
              "outlinewidth": 0,
              "ticks": ""
             }
            },
            "type": "scatter3d"
           }
          ],
          "scattercarpet": [
           {
            "marker": {
             "colorbar": {
              "outlinewidth": 0,
              "ticks": ""
             }
            },
            "type": "scattercarpet"
           }
          ],
          "scattergeo": [
           {
            "marker": {
             "colorbar": {
              "outlinewidth": 0,
              "ticks": ""
             }
            },
            "type": "scattergeo"
           }
          ],
          "scattergl": [
           {
            "marker": {
             "colorbar": {
              "outlinewidth": 0,
              "ticks": ""
             }
            },
            "type": "scattergl"
           }
          ],
          "scattermapbox": [
           {
            "marker": {
             "colorbar": {
              "outlinewidth": 0,
              "ticks": ""
             }
            },
            "type": "scattermapbox"
           }
          ],
          "scatterpolar": [
           {
            "marker": {
             "colorbar": {
              "outlinewidth": 0,
              "ticks": ""
             }
            },
            "type": "scatterpolar"
           }
          ],
          "scatterpolargl": [
           {
            "marker": {
             "colorbar": {
              "outlinewidth": 0,
              "ticks": ""
             }
            },
            "type": "scatterpolargl"
           }
          ],
          "scatterternary": [
           {
            "marker": {
             "colorbar": {
              "outlinewidth": 0,
              "ticks": ""
             }
            },
            "type": "scatterternary"
           }
          ],
          "surface": [
           {
            "colorbar": {
             "outlinewidth": 0,
             "ticks": ""
            },
            "colorscale": [
             [
              0,
              "#0d0887"
             ],
             [
              0.1111111111111111,
              "#46039f"
             ],
             [
              0.2222222222222222,
              "#7201a8"
             ],
             [
              0.3333333333333333,
              "#9c179e"
             ],
             [
              0.4444444444444444,
              "#bd3786"
             ],
             [
              0.5555555555555556,
              "#d8576b"
             ],
             [
              0.6666666666666666,
              "#ed7953"
             ],
             [
              0.7777777777777778,
              "#fb9f3a"
             ],
             [
              0.8888888888888888,
              "#fdca26"
             ],
             [
              1,
              "#f0f921"
             ]
            ],
            "type": "surface"
           }
          ],
          "table": [
           {
            "cells": {
             "fill": {
              "color": "#EBF0F8"
             },
             "line": {
              "color": "white"
             }
            },
            "header": {
             "fill": {
              "color": "#C8D4E3"
             },
             "line": {
              "color": "white"
             }
            },
            "type": "table"
           }
          ]
         },
         "layout": {
          "annotationdefaults": {
           "arrowcolor": "#2a3f5f",
           "arrowhead": 0,
           "arrowwidth": 1
          },
          "autotypenumbers": "strict",
          "coloraxis": {
           "colorbar": {
            "outlinewidth": 0,
            "ticks": ""
           }
          },
          "colorscale": {
           "diverging": [
            [
             0,
             "#8e0152"
            ],
            [
             0.1,
             "#c51b7d"
            ],
            [
             0.2,
             "#de77ae"
            ],
            [
             0.3,
             "#f1b6da"
            ],
            [
             0.4,
             "#fde0ef"
            ],
            [
             0.5,
             "#f7f7f7"
            ],
            [
             0.6,
             "#e6f5d0"
            ],
            [
             0.7,
             "#b8e186"
            ],
            [
             0.8,
             "#7fbc41"
            ],
            [
             0.9,
             "#4d9221"
            ],
            [
             1,
             "#276419"
            ]
           ],
           "sequential": [
            [
             0,
             "#0d0887"
            ],
            [
             0.1111111111111111,
             "#46039f"
            ],
            [
             0.2222222222222222,
             "#7201a8"
            ],
            [
             0.3333333333333333,
             "#9c179e"
            ],
            [
             0.4444444444444444,
             "#bd3786"
            ],
            [
             0.5555555555555556,
             "#d8576b"
            ],
            [
             0.6666666666666666,
             "#ed7953"
            ],
            [
             0.7777777777777778,
             "#fb9f3a"
            ],
            [
             0.8888888888888888,
             "#fdca26"
            ],
            [
             1,
             "#f0f921"
            ]
           ],
           "sequentialminus": [
            [
             0,
             "#0d0887"
            ],
            [
             0.1111111111111111,
             "#46039f"
            ],
            [
             0.2222222222222222,
             "#7201a8"
            ],
            [
             0.3333333333333333,
             "#9c179e"
            ],
            [
             0.4444444444444444,
             "#bd3786"
            ],
            [
             0.5555555555555556,
             "#d8576b"
            ],
            [
             0.6666666666666666,
             "#ed7953"
            ],
            [
             0.7777777777777778,
             "#fb9f3a"
            ],
            [
             0.8888888888888888,
             "#fdca26"
            ],
            [
             1,
             "#f0f921"
            ]
           ]
          },
          "colorway": [
           "#636efa",
           "#EF553B",
           "#00cc96",
           "#ab63fa",
           "#FFA15A",
           "#19d3f3",
           "#FF6692",
           "#B6E880",
           "#FF97FF",
           "#FECB52"
          ],
          "font": {
           "color": "#2a3f5f"
          },
          "geo": {
           "bgcolor": "white",
           "lakecolor": "white",
           "landcolor": "#E5ECF6",
           "showlakes": true,
           "showland": true,
           "subunitcolor": "white"
          },
          "hoverlabel": {
           "align": "left"
          },
          "hovermode": "closest",
          "mapbox": {
           "style": "light"
          },
          "paper_bgcolor": "white",
          "plot_bgcolor": "#E5ECF6",
          "polar": {
           "angularaxis": {
            "gridcolor": "white",
            "linecolor": "white",
            "ticks": ""
           },
           "bgcolor": "#E5ECF6",
           "radialaxis": {
            "gridcolor": "white",
            "linecolor": "white",
            "ticks": ""
           }
          },
          "scene": {
           "xaxis": {
            "backgroundcolor": "#E5ECF6",
            "gridcolor": "white",
            "gridwidth": 2,
            "linecolor": "white",
            "showbackground": true,
            "ticks": "",
            "zerolinecolor": "white"
           },
           "yaxis": {
            "backgroundcolor": "#E5ECF6",
            "gridcolor": "white",
            "gridwidth": 2,
            "linecolor": "white",
            "showbackground": true,
            "ticks": "",
            "zerolinecolor": "white"
           },
           "zaxis": {
            "backgroundcolor": "#E5ECF6",
            "gridcolor": "white",
            "gridwidth": 2,
            "linecolor": "white",
            "showbackground": true,
            "ticks": "",
            "zerolinecolor": "white"
           }
          },
          "shapedefaults": {
           "line": {
            "color": "#2a3f5f"
           }
          },
          "ternary": {
           "aaxis": {
            "gridcolor": "white",
            "linecolor": "white",
            "ticks": ""
           },
           "baxis": {
            "gridcolor": "white",
            "linecolor": "white",
            "ticks": ""
           },
           "bgcolor": "#E5ECF6",
           "caxis": {
            "gridcolor": "white",
            "linecolor": "white",
            "ticks": ""
           }
          },
          "title": {
           "x": 0.05
          },
          "xaxis": {
           "automargin": true,
           "gridcolor": "white",
           "linecolor": "white",
           "ticks": "",
           "title": {
            "standoff": 15
           },
           "zerolinecolor": "white",
           "zerolinewidth": 2
          },
          "yaxis": {
           "automargin": true,
           "gridcolor": "white",
           "linecolor": "white",
           "ticks": "",
           "title": {
            "standoff": 15
           },
           "zerolinecolor": "white",
           "zerolinewidth": 2
          }
         }
        },
        "title": {
         "text": "Count of Headlines for top10 Cities"
        },
        "xaxis": {
         "anchor": "y",
         "domain": [
          0,
          1
         ],
         "title": {
          "text": "city_name"
         }
        },
        "yaxis": {
         "anchor": "x",
         "domain": [
          0,
          1
         ],
         "title": {
          "text": "value"
         }
        }
       }
      }
     },
     "metadata": {},
     "output_type": "display_data"
    }
   ],
   "source": [
    "fig_plot(top10cites,'Count of Headlines for top10 Cities')"
   ]
  },
  {
   "cell_type": "code",
   "execution_count": 48,
   "id": "76021d76",
   "metadata": {},
   "outputs": [
    {
     "data": {
      "text/html": [
       "<div>\n",
       "<style scoped>\n",
       "    .dataframe tbody tr th:only-of-type {\n",
       "        vertical-align: middle;\n",
       "    }\n",
       "\n",
       "    .dataframe tbody tr th {\n",
       "        vertical-align: top;\n",
       "    }\n",
       "\n",
       "    .dataframe thead th {\n",
       "        text-align: right;\n",
       "    }\n",
       "</style>\n",
       "<table border=\"1\" class=\"dataframe\">\n",
       "  <thead>\n",
       "    <tr style=\"text-align: right;\">\n",
       "      <th></th>\n",
       "      <th>publish_date</th>\n",
       "      <th>headline_text</th>\n",
       "      <th>city_name</th>\n",
       "    </tr>\n",
       "  </thead>\n",
       "  <tbody>\n",
       "    <tr>\n",
       "      <th>273</th>\n",
       "      <td>2001-01-04</td>\n",
       "      <td>Three in race for chief secy's post</td>\n",
       "      <td>bengaluru</td>\n",
       "    </tr>\n",
       "    <tr>\n",
       "      <th>274</th>\n",
       "      <td>2001-01-04</td>\n",
       "      <td>Druggists' stir leads to shortage of medicines</td>\n",
       "      <td>patna</td>\n",
       "    </tr>\n",
       "    <tr>\n",
       "      <th>277</th>\n",
       "      <td>2001-01-04</td>\n",
       "      <td>He's not so inscrutable</td>\n",
       "      <td>bengaluru</td>\n",
       "    </tr>\n",
       "    <tr>\n",
       "      <th>278</th>\n",
       "      <td>2001-01-04</td>\n",
       "      <td>DPCC stages Nyay rally</td>\n",
       "      <td>delhi</td>\n",
       "    </tr>\n",
       "    <tr>\n",
       "      <th>642</th>\n",
       "      <td>2001-01-10</td>\n",
       "      <td>Fend for yourselves; Pande tells doctors</td>\n",
       "      <td>patna</td>\n",
       "    </tr>\n",
       "  </tbody>\n",
       "</table>\n",
       "</div>"
      ],
      "text/plain": [
       "    publish_date                                   headline_text  city_name\n",
       "273   2001-01-04             Three in race for chief secy's post  bengaluru\n",
       "274   2001-01-04  Druggists' stir leads to shortage of medicines      patna\n",
       "277   2001-01-04                         He's not so inscrutable  bengaluru\n",
       "278   2001-01-04                          DPCC stages Nyay rally      delhi\n",
       "642   2001-01-10        Fend for yourselves; Pande tells doctors      patna"
      ]
     },
     "execution_count": 48,
     "metadata": {},
     "output_type": "execute_result"
    }
   ],
   "source": [
    "cities.head()\n"
   ]
  },
  {
   "cell_type": "markdown",
   "id": "713b7055",
   "metadata": {},
   "source": [
    "### Analaysing \"HEADLINE_CATEGORY\" with \"CATEGORIES\""
   ]
  },
  {
   "cell_type": "code",
   "execution_count": 49,
   "id": "93a3470e",
   "metadata": {},
   "outputs": [
    {
     "data": {
      "text/html": [
       "<div>\n",
       "<style scoped>\n",
       "    .dataframe tbody tr th:only-of-type {\n",
       "        vertical-align: middle;\n",
       "    }\n",
       "\n",
       "    .dataframe tbody tr th {\n",
       "        vertical-align: top;\n",
       "    }\n",
       "\n",
       "    .dataframe thead th {\n",
       "        text-align: right;\n",
       "    }\n",
       "</style>\n",
       "<table border=\"1\" class=\"dataframe\">\n",
       "  <thead>\n",
       "    <tr style=\"text-align: right;\">\n",
       "      <th></th>\n",
       "      <th>publish_date</th>\n",
       "      <th>headline_category</th>\n",
       "      <th>headline_text</th>\n",
       "    </tr>\n",
       "  </thead>\n",
       "  <tbody>\n",
       "    <tr>\n",
       "      <th>0</th>\n",
       "      <td>2001-01-02</td>\n",
       "      <td>unknown</td>\n",
       "      <td>Status quo will not be disturbed at Ayodhya; s...</td>\n",
       "    </tr>\n",
       "    <tr>\n",
       "      <th>1</th>\n",
       "      <td>2001-01-02</td>\n",
       "      <td>unknown</td>\n",
       "      <td>Fissures in Hurriyat over Pak visit</td>\n",
       "    </tr>\n",
       "    <tr>\n",
       "      <th>2</th>\n",
       "      <td>2001-01-02</td>\n",
       "      <td>unknown</td>\n",
       "      <td>America's unwanted heading for India?</td>\n",
       "    </tr>\n",
       "    <tr>\n",
       "      <th>3</th>\n",
       "      <td>2001-01-02</td>\n",
       "      <td>unknown</td>\n",
       "      <td>For bigwigs; it is destination Goa</td>\n",
       "    </tr>\n",
       "    <tr>\n",
       "      <th>4</th>\n",
       "      <td>2001-01-02</td>\n",
       "      <td>unknown</td>\n",
       "      <td>Extra buses to clear tourist traffic</td>\n",
       "    </tr>\n",
       "  </tbody>\n",
       "</table>\n",
       "</div>"
      ],
      "text/plain": [
       "  publish_date headline_category  \\\n",
       "0   2001-01-02           unknown   \n",
       "1   2001-01-02           unknown   \n",
       "2   2001-01-02           unknown   \n",
       "3   2001-01-02           unknown   \n",
       "4   2001-01-02           unknown   \n",
       "\n",
       "                                       headline_text  \n",
       "0  Status quo will not be disturbed at Ayodhya; s...  \n",
       "1                Fissures in Hurriyat over Pak visit  \n",
       "2              America's unwanted heading for India?  \n",
       "3                 For bigwigs; it is destination Goa  \n",
       "4               Extra buses to clear tourist traffic  "
      ]
     },
     "execution_count": 49,
     "metadata": {},
     "output_type": "execute_result"
    }
   ],
   "source": [
    "news.head()"
   ]
  },
  {
   "cell_type": "code",
   "execution_count": 50,
   "id": "32d3d76c",
   "metadata": {},
   "outputs": [],
   "source": [
    "news['category']=news['headline_category'].str.split('.').map(lambda x : x[0])"
   ]
  },
  {
   "cell_type": "code",
   "execution_count": 51,
   "id": "fa5843e1",
   "metadata": {},
   "outputs": [
    {
     "data": {
      "text/html": [
       "<div>\n",
       "<style scoped>\n",
       "    .dataframe tbody tr th:only-of-type {\n",
       "        vertical-align: middle;\n",
       "    }\n",
       "\n",
       "    .dataframe tbody tr th {\n",
       "        vertical-align: top;\n",
       "    }\n",
       "\n",
       "    .dataframe thead th {\n",
       "        text-align: right;\n",
       "    }\n",
       "</style>\n",
       "<table border=\"1\" class=\"dataframe\">\n",
       "  <thead>\n",
       "    <tr style=\"text-align: right;\">\n",
       "      <th></th>\n",
       "      <th>category</th>\n",
       "      <th>headline_text</th>\n",
       "    </tr>\n",
       "  </thead>\n",
       "  <tbody>\n",
       "    <tr>\n",
       "      <th>0</th>\n",
       "      <td>city</td>\n",
       "      <td>2122043</td>\n",
       "    </tr>\n",
       "    <tr>\n",
       "      <th>1</th>\n",
       "      <td>india</td>\n",
       "      <td>297491</td>\n",
       "    </tr>\n",
       "    <tr>\n",
       "      <th>2</th>\n",
       "      <td>entertainment</td>\n",
       "      <td>232591</td>\n",
       "    </tr>\n",
       "    <tr>\n",
       "      <th>3</th>\n",
       "      <td>unknown</td>\n",
       "      <td>209583</td>\n",
       "    </tr>\n",
       "    <tr>\n",
       "      <th>4</th>\n",
       "      <td>business</td>\n",
       "      <td>160177</td>\n",
       "    </tr>\n",
       "    <tr>\n",
       "      <th>5</th>\n",
       "      <td>sports</td>\n",
       "      <td>131008</td>\n",
       "    </tr>\n",
       "    <tr>\n",
       "      <th>6</th>\n",
       "      <td>home</td>\n",
       "      <td>100215</td>\n",
       "    </tr>\n",
       "    <tr>\n",
       "      <th>7</th>\n",
       "      <td>world</td>\n",
       "      <td>66305</td>\n",
       "    </tr>\n",
       "    <tr>\n",
       "      <th>8</th>\n",
       "      <td>life-style</td>\n",
       "      <td>45214</td>\n",
       "    </tr>\n",
       "    <tr>\n",
       "      <th>9</th>\n",
       "      <td>tv</td>\n",
       "      <td>39296</td>\n",
       "    </tr>\n",
       "  </tbody>\n",
       "</table>\n",
       "</div>"
      ],
      "text/plain": [
       "        category  headline_text\n",
       "0           city        2122043\n",
       "1          india         297491\n",
       "2  entertainment         232591\n",
       "3        unknown         209583\n",
       "4       business         160177\n",
       "5         sports         131008\n",
       "6           home         100215\n",
       "7          world          66305\n",
       "8     life-style          45214\n",
       "9             tv          39296"
      ]
     },
     "execution_count": 51,
     "metadata": {},
     "output_type": "execute_result"
    }
   ],
   "source": [
    "categories = news.groupby(['category']).agg({'headline_text':'count'}).sort_values(by='headline_text',ascending = False)\n",
    "news_cat=categories.head(10)\n",
    "news_cat.reset_index(inplace = True)\n",
    "news_cat"
   ]
  },
  {
   "cell_type": "code",
   "execution_count": 52,
   "id": "e8970d46",
   "metadata": {},
   "outputs": [
    {
     "data": {
      "image/png": "[encoded data removed]",
      "text/plain": [
       "<Figure size 1700x500 with 1 Axes>"
      ]
     },
     "metadata": {},
     "output_type": "display_data"
    }
   ],
   "source": [
    "import matplotlib.colors as mcolors\n",
    "plt.figure(figsize=(17,5))\n",
    "plt.bar(news_cat.category,height= news_cat.headline_text, color = 'c')\n",
    "plt.xlabel('Category')\n",
    "plt.ylabel('Number of articles')\n",
    "plt.title('Top 10 Categories')\n",
    "plt.show()"
   ]
  },
  {
   "cell_type": "code",
   "execution_count": 53,
   "id": "b90ee7ba",
   "metadata": {},
   "outputs": [
    {
     "data": {
      "text/html": [
       "<div>\n",
       "<style scoped>\n",
       "    .dataframe tbody tr th:only-of-type {\n",
       "        vertical-align: middle;\n",
       "    }\n",
       "\n",
       "    .dataframe tbody tr th {\n",
       "        vertical-align: top;\n",
       "    }\n",
       "\n",
       "    .dataframe thead th {\n",
       "        text-align: right;\n",
       "    }\n",
       "</style>\n",
       "<table border=\"1\" class=\"dataframe\">\n",
       "  <thead>\n",
       "    <tr style=\"text-align: right;\">\n",
       "      <th></th>\n",
       "      <th>publish_date</th>\n",
       "      <th>headline_text</th>\n",
       "      <th>category</th>\n",
       "    </tr>\n",
       "  </thead>\n",
       "  <tbody>\n",
       "    <tr>\n",
       "      <th>0</th>\n",
       "      <td>2001-01-02</td>\n",
       "      <td>Status quo will not be disturbed at Ayodhya; s...</td>\n",
       "      <td>unknown</td>\n",
       "    </tr>\n",
       "    <tr>\n",
       "      <th>1</th>\n",
       "      <td>2001-01-02</td>\n",
       "      <td>Fissures in Hurriyat over Pak visit</td>\n",
       "      <td>unknown</td>\n",
       "    </tr>\n",
       "    <tr>\n",
       "      <th>2</th>\n",
       "      <td>2001-01-02</td>\n",
       "      <td>America's unwanted heading for India?</td>\n",
       "      <td>unknown</td>\n",
       "    </tr>\n",
       "    <tr>\n",
       "      <th>3</th>\n",
       "      <td>2001-01-02</td>\n",
       "      <td>For bigwigs; it is destination Goa</td>\n",
       "      <td>unknown</td>\n",
       "    </tr>\n",
       "    <tr>\n",
       "      <th>4</th>\n",
       "      <td>2001-01-02</td>\n",
       "      <td>Extra buses to clear tourist traffic</td>\n",
       "      <td>unknown</td>\n",
       "    </tr>\n",
       "  </tbody>\n",
       "</table>\n",
       "</div>"
      ],
      "text/plain": [
       "  publish_date                                      headline_text category\n",
       "0   2001-01-02  Status quo will not be disturbed at Ayodhya; s...  unknown\n",
       "1   2001-01-02                Fissures in Hurriyat over Pak visit  unknown\n",
       "2   2001-01-02              America's unwanted heading for India?  unknown\n",
       "3   2001-01-02                 For bigwigs; it is destination Goa  unknown\n",
       "4   2001-01-02               Extra buses to clear tourist traffic  unknown"
      ]
     },
     "execution_count": 53,
     "metadata": {},
     "output_type": "execute_result"
    }
   ],
   "source": [
    "news.drop('headline_category', inplace  = True, axis =1)\n",
    "news.head()"
   ]
  },
  {
   "cell_type": "markdown",
   "id": "04db4048",
   "metadata": {},
   "source": [
    "### Cleaning the data -Removing Stop words"
   ]
  },
  {
   "cell_type": "code",
   "execution_count": 54,
   "id": "88959cf2",
   "metadata": {},
   "outputs": [],
   "source": [
    "headline_text = ' '.join(news['headline_text'].str.lower())"
   ]
  },
  {
   "cell_type": "code",
   "execution_count": 55,
   "id": "ec3b27e0",
   "metadata": {},
   "outputs": [
    {
     "name": "stderr",
     "output_type": "stream",
     "text": [
      "[nltk_data] Downloading package stopwords to C:\\Users\\rangadi MD\n",
      "[nltk_data]     aamir\\AppData\\Roaming\\nltk_data...\n",
      "[nltk_data]   Package stopwords is already up-to-date!\n"
     ]
    }
   ],
   "source": [
    "import nltk\n",
    "from nltk.corpus import stopwords\n",
    "nltk.download('stopwords')\n",
    "stop_words = set(stopwords.words('english'))"
   ]
  },
  {
   "cell_type": "code",
   "execution_count": 56,
   "id": "0855ed6e",
   "metadata": {},
   "outputs": [],
   "source": [
    "wordcloud = WordCloud(stopwords=stop_words, background_color=\"white\", max_words=1000).generate(headline_text)"
   ]
  },
  {
   "cell_type": "code",
   "execution_count": null,
   "id": "9eabe89b",
   "metadata": {},
   "outputs": [],
   "source": [
    "rcParams['figure.figsize'] = 10, 10\n",
    "plt.imshow(wordcloud)\n",
    "plt.axis(\"off\")\n",
    "plt.show()"
   ]
  },
  {
   "cell_type": "markdown",
   "id": "b00dd009",
   "metadata": {},
   "source": [
    "### Sentimental Analaysis -- Assigning Polarity to the Headlines"
   ]
  },
  {
   "cell_type": "code",
   "execution_count": null,
   "id": "3d9e79ba",
   "metadata": {},
   "outputs": [],
   "source": [
    "# Create a function to get the subjectivity\n",
    "def Subjectivity(text):\n",
    "       return TextBlob(text).sentiment.subjectivity\n",
    "\n",
    "# Create a function to get the polarity\n",
    "def Polarity(text):\n",
    "      return  TextBlob(text).sentiment.polarity"
   ]
  },
  {
   "cell_type": "code",
   "execution_count": null,
   "id": "bf1bf4a8",
   "metadata": {},
   "outputs": [],
   "source": [
    "news['Subjectivity'] =news['headline_text'].apply(Subjectivity)\n",
    "news['Polarity'] =news['headline_text'].apply(Polarity)"
   ]
  },
  {
   "cell_type": "code",
   "execution_count": null,
   "id": "8c96947a",
   "metadata": {},
   "outputs": [],
   "source": [
    "import nltk\n",
    "\n",
    "senti = SentimentIntensityAnalyzer()"
   ]
  },
  {
   "cell_type": "code",
   "execution_count": null,
   "id": "78497c66",
   "metadata": {},
   "outputs": [],
   "source": [
    "news['Compound'] = [senti.polarity_scores(s)['compound'] for s in news['headline_text']]\n",
    "news['Negative'] = [senti.polarity_scores(s)['neg'] for s in news['headline_text']]\n",
    "news['Neutral'] = [senti.polarity_scores(s)['neu'] for s in news['headline_text']]\n",
    "news['Positive'] = [senti.polarity_scores(s)['pos'] for s in news['headline_text']]"
   ]
  },
  {
   "cell_type": "markdown",
   "id": "b746636f",
   "metadata": {},
   "source": [
    "## Hybrid model - Combining Stocks data and news data"
   ]
  },
  {
   "cell_type": "code",
   "execution_count": null,
   "id": "781f2bd1",
   "metadata": {},
   "outputs": [],
   "source": [
    "news.rename(columns = {'publish_date':'Date'}, inplace = True)"
   ]
  },
  {
   "cell_type": "code",
   "execution_count": null,
   "id": "f5c34004",
   "metadata": {},
   "outputs": [],
   "source": [
    "df_merge = pd.merge(stocks, news, how='inner', on=['Date'])\n",
    "df_merge.head()"
   ]
  },
  {
   "cell_type": "code",
   "execution_count": null,
   "id": "9460a48b",
   "metadata": {},
   "outputs": [],
   "source": [
    "df = df_merge[['Close','Subjectivity', 'Polarity', 'Compound', 'Negative', 'Neutral' ,'Positive']]\n",
    "df.head()\n"
   ]
  },
  {
   "cell_type": "code",
   "execution_count": null,
   "id": "205e0f8b",
   "metadata": {},
   "outputs": [],
   "source": [
    "from sklearn.preprocessing import MinMaxScaler\n",
    "sc = MinMaxScaler()\n",
    "new_df = pd.DataFrame(sc.fit_transform(df))\n",
    "new_df.columns = df.columns\n",
    "new_df.index = df.index\n",
    "new_df.head()"
   ]
  },
  {
   "cell_type": "markdown",
   "id": "12f9b449",
   "metadata": {},
   "source": [
    "### Spliting Data into Train and test"
   ]
  },
  {
   "cell_type": "code",
   "execution_count": null,
   "id": "3625637e",
   "metadata": {},
   "outputs": [],
   "source": [
    "X = new_df.drop('Close', axis=1)\n",
    "y =new_df['Close']"
   ]
  },
  {
   "cell_type": "code",
   "execution_count": null,
   "id": "76367ec4",
   "metadata": {},
   "outputs": [],
   "source": [
    "from sklearn.model_selection import train_test_split\n",
    "X_train, X_test, Y_train, Y_test = train_test_split(X, y, test_size=0.2, random_state = 0)\n"
   ]
  },
  {
   "cell_type": "code",
   "execution_count": null,
   "id": "a8875033",
   "metadata": {},
   "outputs": [
    {
     "ename": "NameError",
     "evalue": "name 'X_train' is not defined",
     "output_type": "error",
     "traceback": [
      "\u001b[1;31m---------------------------------------------------------------------------\u001b[0m",
      "\u001b[1;31mNameError\u001b[0m                                 Traceback (most recent call last)",
      "\u001b[1;32mC:\\Users\\RANGAD~1\\AppData\\Local\\Temp/ipykernel_10800/756060496.py\u001b[0m in \u001b[0;36m<module>\u001b[1;34m\u001b[0m\n\u001b[1;32m----> 1\u001b[1;33m \u001b[0mX_train\u001b[0m\u001b[1;33m.\u001b[0m\u001b[0mshape\u001b[0m \u001b[1;33m,\u001b[0m \u001b[0mX_test\u001b[0m\u001b[1;33m.\u001b[0m\u001b[0mshape\u001b[0m\u001b[1;33m\u001b[0m\u001b[1;33m\u001b[0m\u001b[0m\n\u001b[0m",
      "\u001b[1;31mNameError\u001b[0m: name 'X_train' is not defined"
     ]
    }
   ],
   "source": [
    "X_train.shape , X_test.shape"
   ]
  },
  {
   "cell_type": "code",
   "execution_count": null,
   "id": "c7ebc2d4",
   "metadata": {},
   "outputs": [],
   "source": [
    "def func_graph(results,names):\n",
    "    fig = plt.figure()\n",
    "    fig.suptitle('MSE value of all Algorithms Comparison')\n",
    "    ax = fig.add_subplot(111)\n",
    "    width = 0.5        \n",
    "    bars=plt.bar(names,results, width, align='center')\n",
    "    ax.set_xticklabels(names)\n",
    "    for bar in bars:\n",
    "        yval = bar.get_height()\n",
    "        plt.text(bar.get_x(), yval +0.005, yval)\n",
    "    plt.show()"
   ]
  },
  {
   "cell_type": "code",
   "execution_count": null,
   "id": "a70d6f46",
   "metadata": {},
   "outputs": [],
   "source": [
    "from sklearn import metrics\n",
    "\n",
    "def metric_calc(name,model,category, X_train, Y_train, X_test, Y_test):\n",
    "    if category =='TRAINING DATA' :\n",
    "        X_data= X_train\n",
    "        Y_data=Y_train\n",
    "    else :\n",
    "        X_data= X_test\n",
    "        Y_data=Y_test\n",
    "        \n",
    "    model.fit(X_train, Y_train)\n",
    "    predictions = model.predict(X_data)\n",
    "    mse =round(metrics.mean_squared_error(predictions,Y_data),4)   \n",
    "    print('For ', name, 'MSE-Value is ', mse)\n",
    "    return mse\n"
   ]
  },
  {
   "cell_type": "code",
   "execution_count": null,
   "id": "68949ded",
   "metadata": {},
   "outputs": [],
   "source": [
    "def func_modelling(i) :\n",
    "    count=0\n",
    "    count=count+1\n",
    "    X = X_train[i]\n",
    "    Y = Y_train\n",
    "    x_test = X_test[i]\n",
    "    seed = 7\n",
    "    # preparing models list\n",
    "    models = []\n",
    "    models.append(('Decision Tree',' DecisiontreeRegressor  ', DecisionTreeRegressor()))\n",
    "    models.append(('Random Forest',' RandomForestRegressor  ', RandomForestRegressor()))\n",
    "    models.append(('XG Boost',' XGBRegressor  ', xgboost.XGBRegressor()))\n",
    "    models.append(('LG Boost',' LGBMRegressor ', lightgbm.LGBMRegressor()))\n",
    "    models.append(('ADA Boost',' AdaBoostRegressor ', AdaBoostRegressor()))\n",
    "    results_train = []\n",
    "    results_test = []\n",
    "    names = []\n",
    "    scoring = 'MSE'\n",
    "\n",
    "    print('Metrics calcuated while TRANING the model')\n",
    "    for name,label, model in models:\n",
    "            cv_results_train=metric_calc(name,model,'TRAINING DATA',X,Y, x_test,Y_test)\n",
    "            results_train.append(cv_results_train)\n",
    "            names.append(name)\n",
    "    func_graph(results_train,names)\n",
    "    \n",
    "    print('Evaluating the model on TESTING DATA')\n",
    "    for name,label, model in models:\n",
    "            cv_results_test=metric_calc(name,model,'TESTING DATA',X,Y, x_test,Y_test)\n",
    "            results_test.append(cv_results_test)\n",
    "            #names.append(name)\n",
    "    func_graph(results_test,names)"
   ]
  },
  {
   "cell_type": "markdown",
   "id": "9a320fed",
   "metadata": {},
   "source": [
    "### Training the model "
   ]
  },
  {
   "cell_type": "code",
   "execution_count": null,
   "id": "fb910694",
   "metadata": {},
   "outputs": [
    {
     "ename": "NameError",
     "evalue": "name 'X_train' is not defined",
     "output_type": "error",
     "traceback": [
      "\u001b[1;31m---------------------------------------------------------------------------\u001b[0m",
      "\u001b[1;31mNameError\u001b[0m                                 Traceback (most recent call last)",
      "\u001b[1;32mC:\\Users\\RANGAD~1\\AppData\\Local\\Temp/ipykernel_10800/3387706460.py\u001b[0m in \u001b[0;36m<module>\u001b[1;34m\u001b[0m\n\u001b[1;32m----> 1\u001b[1;33m \u001b[0mfunc_modelling\u001b[0m\u001b[1;33m(\u001b[0m\u001b[0mX_train\u001b[0m\u001b[1;33m.\u001b[0m\u001b[0mcolumns\u001b[0m\u001b[1;33m)\u001b[0m\u001b[1;33m\u001b[0m\u001b[1;33m\u001b[0m\u001b[0m\n\u001b[0m",
      "\u001b[1;31mNameError\u001b[0m: name 'X_train' is not defined"
     ]
    }
   ],
   "source": [
    "func_modelling(X_train.columns)"
   ]
  },
  {
   "cell_type": "markdown",
   "id": "be3f4a50",
   "metadata": {},
   "source": [
    "LGBMRegressor has the least MSE and it has performed best for sentimental Anaylsis to predict if the stock close price with either increase or decrease depending on the news on that day."
   ]
  },
  {
   "cell_type": "code",
   "execution_count": null,
   "id": "3703b0f7",
   "metadata": {},
   "outputs": [],
   "source": []
  }
 ],
 "metadata": {
  "kernelspec": {
   "display_name": "Python 3 (ipykernel)",
   "language": "python",
   "name": "python3"
  },
  "language_info": {
   "codemirror_mode": {
    "name": "ipython",
    "version": 3
   },
   "file_extension": ".py",
   "mimetype": "text/x-python",
   "name": "python",
   "nbconvert_exporter": "python",
   "pygments_lexer": "ipython3",
   "version": "3.10.2"
  },
  "vscode": {
   "interpreter": {
    "hash": "9810800e8901efef13a411d8251a4ac517d7588fcdbe8343ac89af6f5722aef2"
   }
  }
 },
 "nbformat": 4,
 "nbformat_minor": 5
}
